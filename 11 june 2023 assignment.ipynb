{
 "cells": [
  {
   "cell_type": "code",
   "execution_count": null,
   "id": "8c27dd12",
   "metadata": {},
   "outputs": [],
   "source": [
    "1. What is a lambda function in Python, and how does it differ from a regular function?"
   ]
  },
  {
   "cell_type": "markdown",
   "id": "e8a93e94",
   "metadata": {},
   "source": [
    "A lambda function in Python is a concise way to create small, anonymous functions. It is defined using the lambda keyword, and it can take any number of input parameters but can only have one expression. Lambda functions are often used for short-term operations and are particularly handy in functional programming constructs like map, filter, and sorted.\n",
    "\n",
    "Syntax of a Lambda Function:"
   ]
  },
  {
   "cell_type": "code",
   "execution_count": 1,
   "id": "dcb7677c",
   "metadata": {},
   "outputs": [
    {
     "data": {
      "text/plain": [
       "<function __main__.<lambda>(arguments)>"
      ]
     },
     "execution_count": 1,
     "metadata": {},
     "output_type": "execute_result"
    }
   ],
   "source": [
    "lambda arguments: expression"
   ]
  },
  {
   "cell_type": "code",
   "execution_count": 2,
   "id": "d3837c8f",
   "metadata": {},
   "outputs": [
    {
     "name": "stdout",
     "output_type": "stream",
     "text": [
      "8\n"
     ]
    }
   ],
   "source": [
    "# Here's a simple example of a lambda function that adds two numbers:\n",
    "\n",
    "add_numbers = lambda x, y: x + y\n",
    "result = add_numbers(3, 5)\n",
    "print(result)  # Output: 8\n"
   ]
  },
  {
   "cell_type": "markdown",
   "id": "85b8f698",
   "metadata": {},
   "source": [
    "Differences from Regular Functions:\n",
    "\n",
    "1. Syntax: Lambda functions are written in a more compact and single-line syntax compared to regular functions, which require the def keyword, a name, parameters, and a code block.\n",
    "\n",
    "2. Name: Lambda functions are anonymous; they don't have a name. They are often used for short-lived operations without the need for a full function definition.\n",
    "\n",
    "3. Scope: Lambda functions are more limited in scope compared to regular functions. They are typically used for simple operations, while regular functions provide more flexibility and structure for complex tasks."
   ]
  },
  {
   "cell_type": "code",
   "execution_count": 3,
   "id": "09daca7c",
   "metadata": {},
   "outputs": [],
   "source": [
    "# Regular function\n",
    "def add_numbers(x, y):\n",
    "    return x + y\n",
    "\n",
    "# Equivalent lambda function\n",
    "add_numbers_lambda = lambda x, y: x + y\n"
   ]
  },
  {
   "cell_type": "code",
   "execution_count": 4,
   "id": "02acd726",
   "metadata": {},
   "outputs": [
    {
     "name": "stdout",
     "output_type": "stream",
     "text": [
      "[1, 4, 9, 16, 25]\n"
     ]
    }
   ],
   "source": [
    "# Example of Lambda Function Usage:\n",
    "\n",
    "# Using a lambda function with map to square each element in a list\n",
    "numbers = [1, 2, 3, 4, 5]\n",
    "squared_numbers = list(map(lambda x: x ** 2, numbers))\n",
    "\n",
    "print(squared_numbers)  # Output: [1, 4, 9, 16, 25]\n",
    "\n",
    "\n",
    "# In this example, the lambda function is used with map to apply the squaring operation to each element in the list numbers. \n",
    "# Lambda functions are convenient when a short operation is needed without defining a separate function using def."
   ]
  },
  {
   "cell_type": "code",
   "execution_count": null,
   "id": "ca4c87e8",
   "metadata": {},
   "outputs": [],
   "source": [
    "2. Can a lambda function in Python have multiple arguments? If yes, how can you define and use\n",
    "them?"
   ]
  },
  {
   "cell_type": "markdown",
   "id": "710bb518",
   "metadata": {},
   "source": [
    "Yes, a lambda function in Python can have multiple arguments. The syntax for a lambda function with multiple arguments is:\n",
    "\n",
    "lambda argument1, argument2, ... : expression"
   ]
  },
  {
   "cell_type": "code",
   "execution_count": 7,
   "id": "507cac25",
   "metadata": {},
   "outputs": [
    {
     "name": "stdout",
     "output_type": "stream",
     "text": [
      "15\n"
     ]
    }
   ],
   "source": [
    "# Here's an example of a lambda function with multiple arguments:\n",
    "\n",
    "multiply = lambda x, y: x * y\n",
    "result = multiply(3, 5)\n",
    "print(result)  # Output: 15\n",
    "\n",
    "\n",
    "# In this example, the lambda function multiply takes two arguments (x and y) and returns their product. The arguments are separated by commas, just like in a regular function definition."
   ]
  },
  {
   "cell_type": "code",
   "execution_count": 8,
   "id": "994bfb15",
   "metadata": {},
   "outputs": [
    {
     "name": "stdout",
     "output_type": "stream",
     "text": [
      "12\n"
     ]
    }
   ],
   "source": [
    "# You can define and use lambda functions with as many arguments as needed, making them versatile for various short-term operations. \n",
    "\n",
    "Here's another example with three arguments:\n",
    "\n",
    "add_three_numbers = lambda x, y, z: x + y + z\n",
    "result = add_three_numbers(2, 4, 6)\n",
    "print(result)  # Output: 12\n",
    "\n",
    "# Lambda functions with multiple arguments are commonly used in functional programming constructs like map, filter, and sorted."
   ]
  },
  {
   "cell_type": "code",
   "execution_count": null,
   "id": "5db90d0d",
   "metadata": {},
   "outputs": [],
   "source": [
    "3. How are lambda functions typically used in Python? Provide an example use case."
   ]
  },
  {
   "cell_type": "markdown",
   "id": "3a95c350",
   "metadata": {},
   "source": [
    "Lambda functions in Python are typically used in situations where a small, short-lived function is needed, especially in functional programming constructs like map, filter, and sorted. They are handy when you want to perform a quick operation without the need for a full function definition. Here's an example use case:\n",
    "\n",
    "Example: Using Lambda Functions with map\n",
    "\n",
    "Suppose you have a list of numbers, and you want to square each number in the list. You can use a lambda function with the map function to achieve this concisely:"
   ]
  },
  {
   "cell_type": "code",
   "execution_count": 9,
   "id": "3df51b52",
   "metadata": {},
   "outputs": [
    {
     "name": "stdout",
     "output_type": "stream",
     "text": [
      "[1, 4, 9, 16, 25]\n"
     ]
    }
   ],
   "source": [
    "numbers = [1, 2, 3, 4, 5]\n",
    "\n",
    "# Using a lambda function with map to square each element in the list\n",
    "squared_numbers = list(map(lambda x: x**2, numbers))\n",
    "\n",
    "print(squared_numbers)\n"
   ]
  },
  {
   "cell_type": "markdown",
   "id": "f7991c8d",
   "metadata": {},
   "source": [
    "In this example:\n",
    "\n",
    "* The lambda function lambda x: x**2 squares each element x in the list.\n",
    "* map applies the lambda function to each element in the numbers list.\n",
    "* list() is used to convert the result into a list."
   ]
  },
  {
   "cell_type": "markdown",
   "id": "0514d39a",
   "metadata": {},
   "source": [
    "The output will be:\n",
    "\n",
    "[1, 4, 9, 16, 25]\n",
    "\n",
    "Lambda functions are particularly useful in such cases where a short operation is needed, and creating a separate named function using def seems excessive. They provide a concise and expressive way to represent small functional transformations."
   ]
  },
  {
   "cell_type": "code",
   "execution_count": null,
   "id": "6ae4437e",
   "metadata": {},
   "outputs": [],
   "source": [
    "4. What are the advantages and limitations of lambda functions compared to regular functions in\n",
    "Python?"
   ]
  },
  {
   "cell_type": "markdown",
   "id": "5b1d19b5",
   "metadata": {},
   "source": [
    "Advantages of Lambda Functions:\n",
    "\n",
    "1. Conciseness: Lambda functions are more concise than regular functions, making them suitable for short, one-time operations. They allow you to write more compact code.\n",
    "\n",
    "2. Anonymous: Lambda functions are anonymous, meaning they don't have a name. This is useful when you need a function for a short-lived operation and don't want to define a separate named function using def.\n",
    "\n",
    "3. Functional Programming: Lambda functions are commonly used in functional programming constructs like map, filter, and sorted. They fit well with the functional paradigm, allowing for more expressive and readable code.\n",
    "\n",
    "Limitations of Lambda Functions:\n",
    "\n",
    "1. Single Expression: Lambda functions are limited to a single expression. This means they are not suitable for more complex operations that require multiple statements or logic.\n",
    "\n",
    "2. Readability: While lambda functions can be concise, they might sacrifice readability when the operation becomes more involved. For complex operations, using a regular function with def may improve code readability.\n",
    "\n",
    "3. Limited Features: Lambda functions have limited features compared to regular functions. They lack certain capabilities, such as documentation strings (docstrings), which are useful for documenting the purpose and usage of a function.\n",
    "\n",
    "4. Scope: Lambda functions are more limited in scope compared to regular functions. They are typically used for simple operations, while regular functions provide more flexibility and structure for complex tasks.\n",
    "\n",
    "Example Demonstrating Limitation:\n",
    "\n",
    "Consider a case where a more complex operation is needed, involving multiple statements and logic:"
   ]
  },
  {
   "cell_type": "code",
   "execution_count": 10,
   "id": "86c4d93e",
   "metadata": {},
   "outputs": [],
   "source": [
    "# Regular function\n",
    "def complex_operation(x, y):\n",
    "    result = x + y\n",
    "    if result > 0:\n",
    "        return result\n",
    "    else:\n",
    "        return 0\n",
    "\n",
    "# Equivalent lambda function (not recommended for complex operations)\n",
    "complex_lambda = lambda x, y: x + y if x + y > 0 else 0\n",
    "\n",
    "# In this example, the regular function complex_operation is more readable and allows for more complex logic.\n",
    "# The equivalent lambda function is concise but may sacrifice readability for a more complex operation."
   ]
  },
  {
   "cell_type": "markdown",
   "id": "0b0f5b8a",
   "metadata": {},
   "source": [
    "In summary, lambda functions are advantageous for their conciseness and usefulness in functional programming constructs, but they are limited in terms of complexity and features compared to regular functions. Choosing between them depends on the specific use case and the complexity of the operation."
   ]
  },
  {
   "cell_type": "code",
   "execution_count": null,
   "id": "c102abd0",
   "metadata": {},
   "outputs": [],
   "source": [
    "5. Are lambda functions in Python able to access variables defined outside of their own scope?\n",
    "   Explain with an example."
   ]
  },
  {
   "cell_type": "markdown",
   "id": "87b04a72",
   "metadata": {},
   "source": [
    "Yes, lambda functions in Python can access variables defined outside of their own scope. However, the extent to which they can access variables depends on whether the variables are in the global scope or the enclosing scope (if used within a nested function)."
   ]
  },
  {
   "cell_type": "code",
   "execution_count": 11,
   "id": "3750e169",
   "metadata": {},
   "outputs": [],
   "source": [
    "# Let's look at an example:\n",
    "\n",
    "# Global variable\n",
    "global_variable = 10\n",
    "\n",
    "# Regular function accessing global variable\n",
    "def regular_function(x):\n",
    "    return x + global_variable\n",
    "\n",
    "# Lambda function accessing global variable\n",
    "lambda_function = lambda x: x + global_variable\n",
    "\n",
    "# Nested function with a local variable\n",
    "def enclosing_function(y):\n",
    "    local_variable = 5\n",
    "\n",
    "    # Lambda function accessing both local and global variables\n",
    "    lambda_inside_function = lambda x: x + local_variable + y\n",
    "\n",
    "# Testing the functions\n",
    "result_regular = regular_function(5)\n",
    "result_lambda = lambda_function(5)\n",
    "enclosing_function_result = enclosing_function(10)\n"
   ]
  },
  {
   "cell_type": "markdown",
   "id": "b8075b12",
   "metadata": {},
   "source": [
    "In this example:\n",
    "\n",
    "1. The regular_function is a regular function that can access the global variable global_variable directly.\n",
    "\n",
    "2. The lambda_function is a lambda function that can also access the global variable global_variable. Lambda functions have access to variables from the global scope.\n",
    "\n",
    "3. The enclosing_function is a function with a local variable local_variable. The lambda function lambda_inside_function defined within enclosing_function can access both the local variable and the parameter y from the enclosing scope.\n",
    "\n",
    "In general, lambda functions have access to variables from the global scope and the enclosing scope (if used within a nested function). However, it's essential to be cautious about modifying variables from outer scopes, especially in the case of mutable objects, as this behavior might lead to unexpected results or side effects."
   ]
  },
  {
   "cell_type": "code",
   "execution_count": null,
   "id": "6dd6af13",
   "metadata": {},
   "outputs": [],
   "source": [
    "6. Write a lambda function to calculate the square of a given number."
   ]
  },
  {
   "cell_type": "code",
   "execution_count": 12,
   "id": "188e36c1",
   "metadata": {},
   "outputs": [
    {
     "name": "stdout",
     "output_type": "stream",
     "text": [
      "The square of 5 is: 25\n"
     ]
    }
   ],
   "source": [
    "# Here's a simple lambda function to calculate the square of a given number:\n",
    "\n",
    "# Lambda function to calculate the square of a number\n",
    "square = lambda x: x**2\n",
    "\n",
    "# Example usage\n",
    "number = 5\n",
    "result = square(number)\n",
    "\n",
    "print(f\"The square of {number} is: {result}\")\n"
   ]
  },
  {
   "cell_type": "markdown",
   "id": "36b22f41",
   "metadata": {},
   "source": [
    "In this example, the lambda function lambda x: x**2 takes a single argument x and returns its square using the exponentiation operator (**). The variable number is then passed to the lambda function, and the result is printed. You can change the value of number to test the lambda function with different input values."
   ]
  },
  {
   "cell_type": "code",
   "execution_count": null,
   "id": "44655714",
   "metadata": {},
   "outputs": [],
   "source": [
    "7. Create a lambda function to find the maximum value in a list of integers."
   ]
  },
  {
   "cell_type": "code",
   "execution_count": 13,
   "id": "8c5e0222",
   "metadata": {},
   "outputs": [
    {
     "name": "stdout",
     "output_type": "stream",
     "text": [
      "The maximum value in the list is: 54\n"
     ]
    }
   ],
   "source": [
    "# A lambda function to find the maximum value in a list of integers:\n",
    "\n",
    "# Sample list of integers\n",
    "numbers = [15, 7, 23, 42, 10, 54, 32]\n",
    "\n",
    "# Lambda function to find the maximum value in a list\n",
    "max_value = lambda lst: max(lst)\n",
    "\n",
    "# Using the lambda function to find the maximum value in the list\n",
    "result = max_value(numbers)\n",
    "\n",
    "print(f\"The maximum value in the list is: {result}\")\n"
   ]
  },
  {
   "cell_type": "markdown",
   "id": "826abdf7",
   "metadata": {},
   "source": [
    "In this example, the lambda function lambda lst: max(lst) takes a list lst as an argument and uses the max function to find \n",
    "the maximum value in the list. The sample list numbers is then passed to the lambda function, and the result is printed.\n",
    "\n",
    "You can replace the numbers list with your own list of integers to find the maximum value in a different set of numbers.\n"
   ]
  },
  {
   "cell_type": "code",
   "execution_count": null,
   "id": "5dec468e",
   "metadata": {},
   "outputs": [],
   "source": [
    "8. Implement a lambda function to filter out all the even numbers from a list of integers."
   ]
  },
  {
   "cell_type": "code",
   "execution_count": 14,
   "id": "a276030d",
   "metadata": {},
   "outputs": [
    {
     "name": "stdout",
     "output_type": "stream",
     "text": [
      "The list after filtering out even numbers is: [15, 7, 23]\n"
     ]
    }
   ],
   "source": [
    "# A lambda function to filter out all the even numbers from a list of integers:\n",
    "\n",
    "# Sample list of integers\n",
    "numbers = [15, 7, 23, 42, 10, 54, 32]\n",
    "\n",
    "# Lambda function to filter out even numbers\n",
    "filter_even = lambda lst: list(filter(lambda x: x % 2 != 0, lst))\n",
    "\n",
    "# Using the lambda function to filter out even numbers from the list\n",
    "result = filter_even(numbers)\n",
    "\n",
    "print(f\"The list after filtering out even numbers is: {result}\")\n"
   ]
  },
  {
   "cell_type": "markdown",
   "id": "41ea6afc",
   "metadata": {},
   "source": [
    "In this example:\n",
    "\n",
    "1. The lambda function lambda x: x % 2 != 0 is used inside filter to check if a number is not even.\n",
    "\n",
    "2. The lambda function lambda lst: list(filter(..., lst)) takes a list lst as an argument and filters out the even numbers using the filter function.\n",
    "\n",
    "3. The sample list numbers is then passed to the lambda function, and the result is printed.\n",
    "\n",
    "You can replace the numbers list with your own list of integers to filter out even numbers from a different set of numbers."
   ]
  },
  {
   "cell_type": "code",
   "execution_count": null,
   "id": "003dd9e5",
   "metadata": {},
   "outputs": [],
   "source": [
    "9. Write a lambda function to sort a list of strings in ascending order based on the length of each\n",
    "string."
   ]
  },
  {
   "cell_type": "code",
   "execution_count": 15,
   "id": "a3238f0c",
   "metadata": {},
   "outputs": [
    {
     "name": "stdout",
     "output_type": "stream",
     "text": [
      "The sorted list based on string length is: ['kiwi', 'apple', 'grape', 'banana', 'orange']\n"
     ]
    }
   ],
   "source": [
    "# A lambda function to sort a list of strings in ascending order based on the length of each string:\n",
    "\n",
    "# Sample list of strings\n",
    "strings = [\"apple\", \"banana\", \"kiwi\", \"orange\", \"grape\"]\n",
    "\n",
    "# Lambda function to sort strings based on length\n",
    "sort_by_length = lambda lst: sorted(lst, key=lambda x: len(x))\n",
    "\n",
    "# Using the lambda function to sort the list of strings based on length\n",
    "result = sort_by_length(strings)\n",
    "\n",
    "print(f\"The sorted list based on string length is: {result}\")\n"
   ]
  },
  {
   "cell_type": "markdown",
   "id": "92d25d68",
   "metadata": {},
   "source": [
    "In this example:\n",
    "\n",
    "1. The lambda function lambda x: len(x) is used as the key argument in the sorted function to determine the sorting        criteria based on the length of each string.\n",
    "\n",
    "2. The lambda function lambda lst: sorted(..., key=lambda x: len(x)) takes a list lst as an argument and sorts the strings based on their length.\n",
    "\n",
    "3. The sample list strings is then passed to the lambda function, and the result is printed.\n",
    "\n",
    "  You can replace the strings list with your own list of strings to sort them based on length.\n",
    "\n",
    "\n",
    "\n",
    "\n",
    "\n",
    "\n"
   ]
  },
  {
   "cell_type": "code",
   "execution_count": null,
   "id": "f4af021b",
   "metadata": {},
   "outputs": [],
   "source": [
    "10. Create a lambda function that takes two lists as input and returns a new list containing the\n",
    "    common elements between the two lists."
   ]
  },
  {
   "cell_type": "code",
   "execution_count": 16,
   "id": "1d626345",
   "metadata": {},
   "outputs": [
    {
     "name": "stdout",
     "output_type": "stream",
     "text": [
      "The common elements between the two lists are: [4, 5]\n"
     ]
    }
   ],
   "source": [
    "# A lambda function that takes two lists as input and returns a new list containing the common elements between the two lists:\n",
    "\n",
    "# Sample lists\n",
    "list1 = [1, 2, 3, 4, 5]\n",
    "list2 = [4, 5, 6, 7, 8]\n",
    "\n",
    "# Lambda function to find common elements between two lists\n",
    "common_elements = lambda lst1, lst2: list(filter(lambda x: x in lst1, lst2))\n",
    "\n",
    "# Using the lambda function to find common elements between the two lists\n",
    "result = common_elements(list1, list2)\n",
    "\n",
    "print(f\"The common elements between the two lists are: {result}\")\n"
   ]
  },
  {
   "cell_type": "markdown",
   "id": "6ba27485",
   "metadata": {},
   "source": [
    "In this example:\n",
    "\n",
    "1. The lambda function lambda x: x in lst1 is used inside filter to check if an element is present in the first list (lst1).\n",
    "\n",
    "2. The lambda function lambda lst1, lst2: list(filter(..., lst2)) takes two lists as arguments and filters out the elements from the second list (lst2) that are also present in the first list (lst1).\n",
    "\n",
    "3. The sample lists list1 and list2 are then passed to the lambda function, and the result is printed.\n",
    "\n",
    "You can replace list1 and list2 with your own lists to find the common elements between them."
   ]
  },
  {
   "cell_type": "code",
   "execution_count": null,
   "id": "1ed38e30",
   "metadata": {},
   "outputs": [],
   "source": [
    "11. Write a recursive function to calculate the factorial of a given positive integer."
   ]
  },
  {
   "cell_type": "code",
   "execution_count": 17,
   "id": "28a5ac39",
   "metadata": {},
   "outputs": [
    {
     "name": "stdout",
     "output_type": "stream",
     "text": [
      "The factorial of 5 is: 120\n"
     ]
    }
   ],
   "source": [
    "# A recursive function in Python to calculate the factorial of a given positive integer:\n",
    "\n",
    "def factorial(n):\n",
    "    # Base case: factorial of 0 or 1 is 1\n",
    "    if n == 0 or n == 1:\n",
    "        return 1\n",
    "    else:\n",
    "        # Recursive case: n! = n * (n-1)!\n",
    "        return n * factorial(n - 1)\n",
    "\n",
    "# Example usage:\n",
    "number = 5\n",
    "result = factorial(number)\n",
    "\n",
    "print(f\"The factorial of {number} is: {result}\")\n"
   ]
  },
  {
   "cell_type": "markdown",
   "id": "1a43084a",
   "metadata": {},
   "source": [
    "In this recursive function:\n",
    "\n",
    "1. The base case checks if the input n is 0 or 1. If so, it returns 1 because the factorial of 0 and 1 is 1.\n",
    "\n",
    "2. The recursive case calculates the factorial using the formula: n!=n×(n−1)!. It calls the factorial function with the argument n - 1.\n",
    "\n",
    "3. The function continues to call itself recursively until it reaches the base case.\n",
    "\n",
    "You can replace the number variable with any positive integer to calculate its factorial using the recursive function."
   ]
  },
  {
   "cell_type": "code",
   "execution_count": null,
   "id": "3d327a2a",
   "metadata": {},
   "outputs": [],
   "source": [
    "12. Implement a recursive function to compute the nth Fibonacci number."
   ]
  },
  {
   "cell_type": "code",
   "execution_count": 18,
   "id": "98294199",
   "metadata": {},
   "outputs": [
    {
     "name": "stdout",
     "output_type": "stream",
     "text": [
      "The 6-th Fibonacci number is: 8\n"
     ]
    }
   ],
   "source": [
    "# A recursive function in Python to compute the nth Fibonacci number:\n",
    "\n",
    "def fibonacci(n):\n",
    "    # Base case: Fibonacci of 0 is 0, and Fibonacci of 1 is 1\n",
    "    if n == 0:\n",
    "        return 0\n",
    "    elif n == 1:\n",
    "        return 1\n",
    "    else:\n",
    "        # Recursive case: Fibonacci(n) = Fibonacci(n-1) + Fibonacci(n-2)\n",
    "        return fibonacci(n - 1) + fibonacci(n - 2)\n",
    "\n",
    "# Example usage:\n",
    "n = 6\n",
    "result = fibonacci(n)\n",
    "\n",
    "print(f\"The {n}-th Fibonacci number is: {result}\")\n"
   ]
  },
  {
   "cell_type": "markdown",
   "id": "0ca02b6c",
   "metadata": {},
   "source": [
    "In this recursive function:\n",
    "\n",
    "1. The base cases check if the input n is 0 or 1. If n is 0, the function returns 0. If n is 1, the function returns 1.\n",
    "\n",
    "2. The recursive case calculates the Fibonacci number using the formula: Fibonacci(n)=Fibonacci(n−1)+Fibonacci(n−2). It calls the fibonacci function with the arguments n - 1 and n - 2.\n",
    "    \n",
    "3. The function continues to call itself recursively until it reaches the base cases.\n",
    "\n",
    "You can replace the value of n with any non-negative integer to compute its corresponding Fibonacci number using the recursive function. Keep in mind that recursive solutions for Fibonacci numbers can become inefficient for large values of n due to repeated calculations.\n"
   ]
  },
  {
   "cell_type": "code",
   "execution_count": null,
   "id": "2e4d8742",
   "metadata": {},
   "outputs": [],
   "source": [
    "13. Create a recursive function to find the sum of all the elements in a given list."
   ]
  },
  {
   "cell_type": "code",
   "execution_count": 19,
   "id": "33790432",
   "metadata": {},
   "outputs": [
    {
     "name": "stdout",
     "output_type": "stream",
     "text": [
      "The sum of the elements in the list is: 15\n"
     ]
    }
   ],
   "source": [
    "# A recursive function in Python to find the sum of all the elements in a given list:\n",
    "\n",
    "def recursive_sum(lst):\n",
    "    # Base case: if the list is empty, the sum is 0\n",
    "    if not lst:\n",
    "        return 0\n",
    "    else:\n",
    "        # Recursive case: sum = first element + sum of the rest of the elements\n",
    "        return lst[0] + recursive_sum(lst[1:])\n",
    "\n",
    "# Example usage:\n",
    "numbers = [1, 2, 3, 4, 5]\n",
    "result = recursive_sum(numbers)\n",
    "\n",
    "print(f\"The sum of the elements in the list is: {result}\")\n"
   ]
  },
  {
   "cell_type": "markdown",
   "id": "41d64713",
   "metadata": {},
   "source": [
    "In this recursive function:\n",
    "\n",
    "1. The base case checks if the list is empty (not lst). If the list is empty, the function returns 0.\n",
    "\n",
    "2. The recursive case calculates the sum using the formula: sum=first element+sum of the rest of the elements. It calls the  recursive_sum function with the sublist lst[1:] (all elements except the first one).\n",
    "\n",
    "3. The function continues to call itself recursively until it reaches the base case.\n",
    "\n",
    "You can replace the numbers list with your own list of numbers to find the sum of its elements using the recursive function."
   ]
  },
  {
   "cell_type": "code",
   "execution_count": null,
   "id": "411e8593",
   "metadata": {},
   "outputs": [],
   "source": [
    "14. Write a recursive function to determine whether a given string is a palindrome."
   ]
  },
  {
   "cell_type": "code",
   "execution_count": 20,
   "id": "378c5e6d",
   "metadata": {},
   "outputs": [
    {
     "name": "stdout",
     "output_type": "stream",
     "text": [
      "The word 'radar' is a palindrome.\n"
     ]
    }
   ],
   "source": [
    "# A recursive function in Python to determine whether a given string is a palindrome:\n",
    "\n",
    "def is_palindrome(s):\n",
    "    # Base case: an empty string or a string with one character is a palindrome\n",
    "    if len(s) == 0 or len(s) == 1:\n",
    "        return True\n",
    "    else:\n",
    "        # Recursive case: check if the first and last characters are equal,\n",
    "        # and recursively check the remaining substring\n",
    "        return s[0] == s[-1] and is_palindrome(s[1:-1])\n",
    "\n",
    "# Example usage:\n",
    "word = \"radar\"\n",
    "result = is_palindrome(word)\n",
    "\n",
    "if result:\n",
    "    print(f\"The word '{word}' is a palindrome.\")\n",
    "else:\n",
    "    print(f\"The word '{word}' is not a palindrome.\")\n"
   ]
  },
  {
   "cell_type": "markdown",
   "id": "31af6510",
   "metadata": {},
   "source": [
    "In this recursive function:\n",
    "\n",
    "1. The base case checks if the string s is empty or has only one character. If so, it returns True because an empty string or a string with one character is considered a palindrome.\n",
    "\n",
    "2. The recursive case checks if the first and last characters of the string are equal (s[0] == s[-1]). It also recursively checks whether the remaining substring (s[1:-1]) is a palindrome.\n",
    "\n",
    "3. The function continues to call itself recursively until it either reaches the base case or finds a pair of non-matching characters.\n",
    "\n",
    "You can replace the word variable with any string to check whether it is a palindrome using the recursive function."
   ]
  },
  {
   "cell_type": "code",
   "execution_count": null,
   "id": "45ad0cdb",
   "metadata": {},
   "outputs": [],
   "source": [
    "15. Implement a recursive function to find the greatest common divisor (GCD) of two positive integers."
   ]
  },
  {
   "cell_type": "code",
   "execution_count": 21,
   "id": "dc436a78",
   "metadata": {},
   "outputs": [
    {
     "name": "stdout",
     "output_type": "stream",
     "text": [
      "The GCD of 48 and 18 is: 6\n"
     ]
    }
   ],
   "source": [
    "# A recursive function in Python to find the greatest common divisor (GCD) of two positive integers using the Euclidean algorithm:\n",
    "\n",
    "def gcd_recursive(a, b):\n",
    "    # Base case: if b is 0, GCD is a\n",
    "    if b == 0:\n",
    "        return a\n",
    "    else:\n",
    "        # Recursive case: GCD(a, b) is the same as GCD(b, a % b)\n",
    "        return gcd_recursive(b, a % b)\n",
    "\n",
    "# Example usage:\n",
    "num1 = 48\n",
    "num2 = 18\n",
    "result = gcd_recursive(num1, num2)\n",
    "\n",
    "print(f\"The GCD of {num1} and {num2} is: {result}\")\n"
   ]
  },
  {
   "cell_type": "markdown",
   "id": "ab2d4be1",
   "metadata": {},
   "source": [
    "In this recursive function:\n",
    "\n",
    "1. The base case checks if b is 0. If b is 0, the GCD is a, and the function returns a.\n",
    "\n",
    "2. The recursive case calculates the GCD using the Euclidean algorithm:GCD(a,b) is the same as  GCD(b,amodb). It calls the gcd_recursive function with the arguments b and a % b.\n",
    "\n",
    "3. The function continues to call itself recursively until it reaches the base case.\n",
    "\n",
    "You can replace the values of num1 and num2 with any positive integers to find their GCD using the recursive function."
   ]
  },
  {
   "cell_type": "code",
   "execution_count": null,
   "id": "14ecacce",
   "metadata": {},
   "outputs": [],
   "source": []
  }
 ],
 "metadata": {
  "kernelspec": {
   "display_name": "Python 3 (ipykernel)",
   "language": "python",
   "name": "python3"
  },
  "language_info": {
   "codemirror_mode": {
    "name": "ipython",
    "version": 3
   },
   "file_extension": ".py",
   "mimetype": "text/x-python",
   "name": "python",
   "nbconvert_exporter": "python",
   "pygments_lexer": "ipython3",
   "version": "3.10.9"
  }
 },
 "nbformat": 4,
 "nbformat_minor": 5
}
