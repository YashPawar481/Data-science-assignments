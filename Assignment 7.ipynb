{
 "cells": [
  {
   "cell_type": "code",
   "execution_count": null,
   "id": "799e48cd",
   "metadata": {},
   "outputs": [],
   "source": [
    "Q.1. Create two int type variables, apply addition, subtraction, division and multiplications\n",
    "and store the results in variables. Then print the data in the following format by calling the\n",
    "variables:\n",
    "First variable is __ & second variable is __.\n",
    "Addition: __ + __ = __\n",
    "Subtraction: __ - __ = __\n",
    "Multiplication: __ * __ = __\n",
    "Division: __ / __ = __"
   ]
  },
  {
   "cell_type": "code",
   "execution_count": 1,
   "id": "7d25f813",
   "metadata": {},
   "outputs": [
    {
     "name": "stdout",
     "output_type": "stream",
     "text": [
      "First variable is 20 & second variable is 4.\n",
      "Addition: 20 + 4 = 24\n",
      "Subtraction: 20 - 4 = 16\n",
      "Multiplication: 20 * 4 = 80\n",
      "Division: 20 / 4 = 5.0\n"
     ]
    }
   ],
   "source": [
    "Ans.\n",
    "# Create two int type variables\n",
    "first_variable = 20\n",
    "second_variable = 4\n",
    "\n",
    "# Perform operations\n",
    "addition_result = first_variable + second_variable\n",
    "subtraction_result = first_variable - second_variable\n",
    "multiplication_result = first_variable * second_variable\n",
    "division_result = first_variable / second_variable  # Using \"/\" for simplicity, may need to use \"//\" for integer division in Python 3.x\n",
    "\n",
    "# Print the results in the specified format\n",
    "print(f\"First variable is {first_variable} & second variable is {second_variable}.\")\n",
    "print(f\"Addition: {first_variable} + {second_variable} = {addition_result}\")\n",
    "print(f\"Subtraction: {first_variable} - {second_variable} = {subtraction_result}\")\n",
    "print(f\"Multiplication: {first_variable} * {second_variable} = {multiplication_result}\")\n",
    "print(f\"Division: {first_variable} / {second_variable} = {division_result}\")\n",
    "\n",
    "\n",
    "# This code initializes two variables, performs addition, subtraction, multiplication, and division operations, and then prints the results in the specified format. When you run this code, you'll see the formatted output with the results of each operation."
   ]
  },
  {
   "cell_type": "code",
   "execution_count": null,
   "id": "6dd63316",
   "metadata": {},
   "outputs": [],
   "source": [
    "Q.2. What is the difference between the following operators:\n",
    "(i) ‘/’ & ‘//’\n",
    "(ii) ‘**’ & ‘^’"
   ]
  },
  {
   "cell_type": "code",
   "execution_count": null,
   "id": "e7421afa",
   "metadata": {},
   "outputs": [],
   "source": [
    "'/' (Division Operator):\n",
    "\n",
    "* The forward slash (/) is the division operator in Python.\n",
    "* It performs floating-point division, which means it returns a floating-point result even if the division results \n",
    "  in a whole number.\n",
    "    \n",
    "# example \n",
    "result = 7 / 2\n",
    "print(result)  # Output: 3.5\n",
    "\n",
    "'//' (Floor Division Operator):\n",
    "\n",
    "* The double forward slash (//) is the floor division operator in Python.\n",
    "* It performs integer division, which means it returns the quotient as an integer, discarding any remainder.\n",
    "\n",
    "# Example\n",
    "\n",
    "result = 7 // 2\n",
    "print(result)  # Output: 3\n",
    "\n",
    "\n",
    "(ii) '' & '^'**\n",
    "\n",
    "'' (Exponentiation Operator):**\n",
    "\n",
    "* The double asterisk (**) is the exponentiation operator in Python.\n",
    "* It raises the left operand to the power of the right operand.\n",
    "\n",
    "# Example\n",
    "\n",
    "result = 2 ** 3\n",
    "print(result)  # Output: 8\n",
    "\n",
    "\n",
    "'^' (Bitwise XOR Operator):\n",
    "\n",
    "* The caret (^) is the bitwise XOR (exclusive OR) operator in Python.\n",
    "* It performs a bitwise XOR operation on the binary representations of two integers.\n",
    "\n",
    "#Example \n",
    "result = 5 ^ 3\n",
    "print(result)  # Output: 6\n",
    "\n",
    "\n",
    "Key Differences:\n",
    "\n",
    "* '/' and '//' differ in the type of division they perform—floating-point division vs. floor division.\n",
    "* '**' performs exponentiation, while '^' performs bitwise XOR. They serve completely different purposes."
   ]
  },
  {
   "cell_type": "code",
   "execution_count": null,
   "id": "b779b6c0",
   "metadata": {},
   "outputs": [],
   "source": [
    "Q.3. List the logical operators."
   ]
  },
  {
   "cell_type": "markdown",
   "id": "45d86920",
   "metadata": {},
   "source": [
    "The logical operators in Python are used to perform logical operations on boolean values. Here is a list of the main logical operators:"
   ]
  },
  {
   "cell_type": "code",
   "execution_count": null,
   "id": "52d84709",
   "metadata": {},
   "outputs": [],
   "source": [
    "1. and:\n",
    "\n",
    "* Returns True if both operands are True.\n",
    "\n",
    "result = True and False  # Result is False\n",
    "\n",
    "2. or:\n",
    "\n",
    "* Returns True if at least one of the operands is True.\n",
    "\n",
    "result = True or False  # Result is True\n",
    "\n",
    "3. not:\n",
    "\n",
    "* Returns True if the operand is False and vice versa.\n",
    "\n",
    "result = not True  # Result is False\n",
    "\n",
    "These operators are often used to combine or modify boolean values in conditions or expressions."
   ]
  },
  {
   "cell_type": "code",
   "execution_count": null,
   "id": "d540736b",
   "metadata": {},
   "outputs": [],
   "source": [
    "Q.4. Explain right shift operator and left shift operator with examples."
   ]
  },
  {
   "cell_type": "markdown",
   "id": "ecce9fd0",
   "metadata": {},
   "source": [
    "In Python, the right shift (>>) and left shift (<<) operators are bitwise operators that shift the bits of a binary representation of a number to the right or left. These operators are used to perform bitwise shift operations.\n",
    "\n",
    "Right Shift Operator (>>):\n",
    "\n",
    "* The right shift operator shifts the bits of a number to the right by a specified number of positions.\n",
    "* It fills the vacant positions on the left with the sign bit (the leftmost bit, which indicates the sign in two's complement representation)."
   ]
  },
  {
   "cell_type": "code",
   "execution_count": 3,
   "id": "c0a746d1",
   "metadata": {},
   "outputs": [
    {
     "name": "stdout",
     "output_type": "stream",
     "text": [
      "2\n"
     ]
    }
   ],
   "source": [
    "# Example\n",
    "# Right shift by 2 positions\n",
    "result = 8 >> 2\n",
    "print(result)  # Output: 2\n",
    "# Binary representation of 8 is 0b1000, and after right shift by 2 positions, it becomes 0b0010, which is 2 in decimal."
   ]
  },
  {
   "cell_type": "markdown",
   "id": "0543e619",
   "metadata": {},
   "source": [
    "Left Shift Operator (<<):\n",
    "\n",
    "The left shift operator shifts the bits of a number to the left by a specified number of positions.\n",
    "It fills the vacant positions on the right with zeros."
   ]
  },
  {
   "cell_type": "code",
   "execution_count": 4,
   "id": "cd11634a",
   "metadata": {},
   "outputs": [
    {
     "name": "stdout",
     "output_type": "stream",
     "text": [
      "32\n"
     ]
    }
   ],
   "source": [
    "# Left shift by 3 positions\n",
    "result = 4 << 3\n",
    "print(result)  # Output: 32\n",
    "# Binary representation of 4 is 0b100, and after left shift by 3 positions, it becomes 0b100000, which is 32 in decimal.\n",
    "\n",
    "\n",
    "# These shift operators are often used in low-level programming and bitwise manipulation to efficiently perform operations related to binary representation."
   ]
  },
  {
   "cell_type": "code",
   "execution_count": null,
   "id": "59931fe0",
   "metadata": {},
   "outputs": [],
   "source": [
    "Q.5. Create a list containing int type data of length 15. Then write a code to check if 10 is\n",
    "present in the list or not."
   ]
  },
  {
   "cell_type": "markdown",
   "id": "0ddf42a2",
   "metadata": {},
   "source": [
    "Let's create a list of integers and then check if the number 10 is present in the list:"
   ]
  },
  {
   "cell_type": "code",
   "execution_count": 5,
   "id": "d6e365ce",
   "metadata": {},
   "outputs": [
    {
     "name": "stdout",
     "output_type": "stream",
     "text": [
      "The number 10 is present in the list.\n"
     ]
    }
   ],
   "source": [
    "# Create a list of integers\n",
    "int_list = [5, 8, 10, 15, 20, 25, 30, 35, 40, 45, 50, 55, 60, 65, 70]\n",
    "\n",
    "# Check if 10 is present in the list\n",
    "if 10 in int_list:\n",
    "    print(\"The number 10 is present in the list.\")\n",
    "else:\n",
    "    print(\"The number 10 is not present in the list.\")\n"
   ]
  },
  {
   "cell_type": "markdown",
   "id": "01d947c9",
   "metadata": {},
   "source": [
    "In this code:\n",
    "\n",
    "* We create a list named int_list containing 15 integers.\n",
    "* We use the in operator to check if the number 10 is present in the list.\n",
    "* If 10 is found in the list, it prints that the number is present; otherwise, it prints that the number is not present.\n",
    "\n",
    "  Feel free to modify the list or the number you are checking to experiment with different scenarios."
   ]
  },
  {
   "cell_type": "code",
   "execution_count": null,
   "id": "0ac414e0",
   "metadata": {},
   "outputs": [],
   "source": []
  }
 ],
 "metadata": {
  "kernelspec": {
   "display_name": "Python 3 (ipykernel)",
   "language": "python",
   "name": "python3"
  },
  "language_info": {
   "codemirror_mode": {
    "name": "ipython",
    "version": 3
   },
   "file_extension": ".py",
   "mimetype": "text/x-python",
   "name": "python",
   "nbconvert_exporter": "python",
   "pygments_lexer": "ipython3",
   "version": "3.10.9"
  }
 },
 "nbformat": 4,
 "nbformat_minor": 5
}
