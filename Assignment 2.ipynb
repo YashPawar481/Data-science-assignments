{
 "cells": [
  {
   "cell_type": "code",
   "execution_count": null,
   "id": "5f9e8e09",
   "metadata": {},
   "outputs": [],
   "source": [
    "1.What are the two values of the Boolean data type? How do you write them?"
   ]
  },
  {
   "cell_type": "markdown",
   "id": "4576ae9b",
   "metadata": {},
   "source": [
    "Ans: True and False are two values of the boolen data types. We have to use capital T and F and with the rest of the word in lowercase"
   ]
  },
  {
   "cell_type": "code",
   "execution_count": 1,
   "id": "968b54ae",
   "metadata": {},
   "outputs": [
    {
     "name": "stdout",
     "output_type": "stream",
     "text": [
      "True <class 'bool'>\n",
      "False <class 'bool'>\n"
     ]
    }
   ],
   "source": [
    "x=True\n",
    "y=False\n",
    "print(x,type(x))\n",
    "print(y,type(y))"
   ]
  },
  {
   "cell_type": "code",
   "execution_count": null,
   "id": "b06c887e",
   "metadata": {},
   "outputs": [],
   "source": [
    "2. What are the three different types of Boolean operators?"
   ]
  },
  {
   "cell_type": "markdown",
   "id": "5fba819e",
   "metadata": {},
   "source": [
    "Ans: The three differnt types of Boolean operators in python are: or and not"
   ]
  },
  {
   "cell_type": "code",
   "execution_count": 2,
   "id": "04649368",
   "metadata": {},
   "outputs": [
    {
     "name": "stdout",
     "output_type": "stream",
     "text": [
      "True\n",
      "True\n",
      "False\n"
     ]
    }
   ],
   "source": [
    "a=200\n",
    "b=400\n",
    "print(a>100 and b>200) # Example of boolean and\n",
    "print(a>100 or b>200) # Example of boolean or\n",
    "print(not(a>20)) # Example of boolean not"
   ]
  },
  {
   "cell_type": "code",
   "execution_count": null,
   "id": "975406f5",
   "metadata": {},
   "outputs": [],
   "source": [
    "3. Make a list of each Boolean operator&#39;s truth tables (i.e. every possible combination of Boolean\n",
    "values for the operator and what it evaluate )."
   ]
  },
  {
   "cell_type": "markdown",
   "id": "82c1372a",
   "metadata": {},
   "source": [
    "Ans: The Truth tables for the boolean tables are as follows:\n",
    "\n",
    "Truth Table for and operator:\n",
    "\n",
    "True and True is True,\n",
    "True and False is False,\n",
    "False and True is False,\n",
    "False and False is False,\n",
    "\n",
    "Truth Table for or operator:\n",
    "\n",
    "True and True is True,\n",
    "True and False is True,\n",
    "False and True is True,\n",
    "False and False is False,\n",
    "\n",
    "Truth Table for not operator:\n",
    "\n",
    "True not is False False not is True"
   ]
  },
  {
   "cell_type": "markdown",
   "id": "813e4487",
   "metadata": {},
   "source": [
    "4. What are the values of the following expressions?\n",
    "\n",
    "(5 > 4) and (3 == 5)\n",
    "not (5 > 4)\n",
    "(5 > 4) or (3 == 5)\n",
    "not ((5 > 4) or (3 == 5))\n",
    "(True and True) and (True == False)\n",
    "(not False) or (not True)"
   ]
  },
  {
   "cell_type": "code",
   "execution_count": 3,
   "id": "36e48459",
   "metadata": {},
   "outputs": [
    {
     "name": "stdout",
     "output_type": "stream",
     "text": [
      "False\n",
      "False\n",
      "True\n",
      "False\n",
      "False\n",
      "True\n"
     ]
    }
   ],
   "source": [
    "print((5>4)and(3==5)) # False\n",
    "print(not(5>4)) # False\n",
    "print((5>4)or(3==5)) # True\n",
    "print(not((5>4)or(3==5))) # False\n",
    "print((True and True)and(True==False)) # False\n",
    "print((not False)or(not True)) # True"
   ]
  },
  {
   "cell_type": "code",
   "execution_count": null,
   "id": "cd1f5a5a",
   "metadata": {},
   "outputs": [],
   "source": [
    "5. What are the six comparison operators?"
   ]
  },
  {
   "cell_type": "markdown",
   "id": "f559f0ec",
   "metadata": {},
   "source": [
    "Ans: The Six comparision operators available in python are:\n",
    "== , != , < , > , <= , =>"
   ]
  },
  {
   "cell_type": "code",
   "execution_count": null,
   "id": "dd3ed564",
   "metadata": {},
   "outputs": [],
   "source": [
    "6. How do you tell the difference between the equal to and assignment operators?Describe a\n",
    "condition and when you would use one."
   ]
  },
  {
   "cell_type": "markdown",
   "id": "b2255774",
   "metadata": {},
   "source": [
    "Ans: == is the equal to operator that compares two values and evaluates to a Boolean, while = is that assignment operator that stores a value in a variable."
   ]
  },
  {
   "cell_type": "code",
   "execution_count": 4,
   "id": "7fda92a8",
   "metadata": {},
   "outputs": [
    {
     "name": "stdout",
     "output_type": "stream",
     "text": [
      "True\n"
     ]
    }
   ],
   "source": [
    "a=25 # Assigning operator that stores 25 value in a variable a\n",
    "if a==25:#comparing values of a varible value and 25\n",
    "    print(a==25)  "
   ]
  },
  {
   "cell_type": "code",
   "execution_count": null,
   "id": "91a80fa6",
   "metadata": {},
   "outputs": [],
   "source": [
    "7. Identify the three blocks in this code:\n",
    "    \n",
    "    spam = 0\n",
    "    if spam == 10:\n",
    "    print('eggs')\n",
    "    if spam > 5:\n",
    "    print('bacon')\n",
    "    else:\n",
    "    print('ham')\n",
    "    print('spam')\n",
    "    print('spam')"
   ]
  },
  {
   "cell_type": "markdown",
   "id": "eeaba941",
   "metadata": {},
   "source": [
    "Ans: In Python, code block refers to a collection of code that is in the same block or indent. This is most commonly found in classes, functions, and loops."
   ]
  },
  {
   "cell_type": "code",
   "execution_count": 6,
   "id": "8c455692",
   "metadata": {},
   "outputs": [
    {
     "name": "stdout",
     "output_type": "stream",
     "text": [
      "jam\n",
      "aero\n",
      "aero\n"
     ]
    }
   ],
   "source": [
    "spam = 10  \n",
    "if spam == 100:  \n",
    "    print('eggs')  # block #1\n",
    "if spam > 40:  \n",
    "    print('bacon')  # block #2\n",
    "else:  \n",
    "    print('jam')  # block #3\n",
    "print('aero')  \n",
    "print('aero')"
   ]
  },
  {
   "cell_type": "code",
   "execution_count": null,
   "id": "2bbecd7b",
   "metadata": {},
   "outputs": [],
   "source": [
    "8. Write code that prints Hello if 1 is stored in spam, prints Howdy if 2 is stored in spam, and prints\n",
    "Greetings! if anything else is stored in spam."
   ]
  },
  {
   "cell_type": "code",
   "execution_count": 7,
   "id": "4852e98b",
   "metadata": {},
   "outputs": [
    {
     "name": "stdout",
     "output_type": "stream",
     "text": [
      "Hola Amigo\n",
      "Italy\n",
      "Greetings\n"
     ]
    }
   ],
   "source": [
    "def spamCode(tap):\n",
    "    if tap==1:\n",
    "        print('Hola Amigo')\n",
    "    elif tap==2:\n",
    "        print('Italy')\n",
    "    else:\n",
    "        print('Greetings')\n",
    "        \n",
    "spamCode(1) \n",
    "spamCode(2)\n",
    "spamCode(3)"
   ]
  },
  {
   "cell_type": "code",
   "execution_count": null,
   "id": "cdb1898b",
   "metadata": {},
   "outputs": [],
   "source": [
    "9.If your programme is stuck in an endless loop, what keys you’ll press?"
   ]
  },
  {
   "cell_type": "markdown",
   "id": "b22921f7",
   "metadata": {},
   "source": [
    "Ans: Press Ctrl-c to stop a program stuck in an infinite loop"
   ]
  },
  {
   "cell_type": "code",
   "execution_count": null,
   "id": "7abc4cf6",
   "metadata": {},
   "outputs": [],
   "source": [
    "10. How can you tell the difference between break and continue?"
   ]
  },
  {
   "cell_type": "markdown",
   "id": "638f8afb",
   "metadata": {},
   "source": [
    "Ans: The break statement will move the execution outside the loop if break condtion is satisfied. Whereas the continue statement will move the execution to the start of the loop."
   ]
  },
  {
   "cell_type": "code",
   "execution_count": null,
   "id": "5a220b31",
   "metadata": {},
   "outputs": [],
   "source": [
    "11. In a for loop, what is the difference between range(10), range(0, 10), and range(0, 10, 1)?"
   ]
  },
  {
   "cell_type": "markdown",
   "id": "44248e7f",
   "metadata": {},
   "source": [
    "Ans: The Differences are as follows:\n",
    "\n",
    "1. The range(10) call range from 0 to 9 (but not include 10)\n",
    "2. The range (0,10) explicitly tells the loop to start at 0\n",
    "3. The range(0,10,1) explicitly tells the loop to increase the variable by 1 on each iteration"
   ]
  },
  {
   "cell_type": "code",
   "execution_count": null,
   "id": "7f3698b4",
   "metadata": {},
   "outputs": [],
   "source": [
    "12. Write a short program that prints the numbers 1 to 10 using a for loop. Then write an equivalent\n",
    "program that prints the numbers 1 to 10 using a while loop."
   ]
  },
  {
   "cell_type": "code",
   "execution_count": 8,
   "id": "2a1f3126",
   "metadata": {},
   "outputs": [
    {
     "name": "stdout",
     "output_type": "stream",
     "text": [
      "---------- Using For Loop ----------\n",
      "1 2 3 4 5 6 7 8 9 10 \n",
      "\n",
      "---------- Using While Loop ----------\n",
      "1 2 3 4 5 6 7 8 9 10 "
     ]
    }
   ],
   "source": [
    "print('-'*10,'Using For Loop','-'*10)\n",
    "for i in range(1,11):\n",
    "    print(i, end=\" \")\n",
    "print('\\n')\n",
    "print('-'*10,'Using While Loop','-'*10) \n",
    "i=1\n",
    "while i<=10:\n",
    "    print(i, end=\" \")\n",
    "    i+=1"
   ]
  },
  {
   "cell_type": "code",
   "execution_count": null,
   "id": "a2ab425d",
   "metadata": {},
   "outputs": [],
   "source": [
    "13. If you had a function named bacon() inside a module named spam, how would you call it after\n",
    "importing spam?"
   ]
  },
  {
   "cell_type": "markdown",
   "id": "3cde1ec5",
   "metadata": {},
   "source": [
    "Ans: This function can be called with spam.bacon()"
   ]
  },
  {
   "cell_type": "code",
   "execution_count": null,
   "id": "59876bdc",
   "metadata": {},
   "outputs": [],
   "source": []
  }
 ],
 "metadata": {
  "kernelspec": {
   "display_name": "Python 3 (ipykernel)",
   "language": "python",
   "name": "python3"
  },
  "language_info": {
   "codemirror_mode": {
    "name": "ipython",
    "version": 3
   },
   "file_extension": ".py",
   "mimetype": "text/x-python",
   "name": "python",
   "nbconvert_exporter": "python",
   "pygments_lexer": "ipython3",
   "version": "3.10.9"
  }
 },
 "nbformat": 4,
 "nbformat_minor": 5
}
