{
 "cells": [
  {
   "cell_type": "code",
   "execution_count": null,
   "id": "54d4ac4f",
   "metadata": {},
   "outputs": [],
   "source": [
    "1. In Python, what is the difference between a built-in function and a user-defined function? Provide an\n",
    "example of each."
   ]
  },
  {
   "cell_type": "markdown",
   "id": "29c14d24",
   "metadata": {},
   "source": [
    "Certainly! Let's explore the difference between a built-in function and a user-defined function in Python.\n",
    "\n",
    "Built-in Function:\n",
    "\n",
    "* A built-in function is a function that is already defined and available as part of the Python language.\n",
    "* These functions are included in the Python standard library and cover a wide range of tasks, from basic operations to complex functionalities."
   ]
  },
  {
   "cell_type": "code",
   "execution_count": 1,
   "id": "37feaf36",
   "metadata": {},
   "outputs": [
    {
     "name": "stdout",
     "output_type": "stream",
     "text": [
      "Length of the list: 5\n"
     ]
    }
   ],
   "source": [
    "# Example of a Built-in Function:\n",
    "\n",
    "# Using the len() built-in function to get the length of a list\n",
    "my_list = [1, 2, 3, 4, 5]\n",
    "length = len(my_list)\n",
    "print(\"Length of the list:\", length)\n",
    "\n",
    "# In this example, len() is a built-in function that returns the length of a sequence (in this case, a list)."
   ]
  },
  {
   "cell_type": "markdown",
   "id": "612a73f4",
   "metadata": {},
   "source": [
    "User-defined Function:\n",
    "\n",
    "* A user-defined function is a function created by the user to perform a specific task.\n",
    "* Users can define their own functions using the def keyword, and these functions can then be reused throughout their code."
   ]
  },
  {
   "cell_type": "code",
   "execution_count": 2,
   "id": "367ed3f3",
   "metadata": {},
   "outputs": [
    {
     "name": "stdout",
     "output_type": "stream",
     "text": [
      "Square of the number: 16\n"
     ]
    }
   ],
   "source": [
    "# Example of a User-defined Function:\n",
    "\n",
    "# Defining a simple user-defined function to calculate the square of a number\n",
    "def square_number(x):\n",
    "    return x ** 2\n",
    "\n",
    "# Using the user-defined function\n",
    "result = square_number(4)\n",
    "print(\"Square of the number:\", result)\n",
    "\n",
    "# In this example, square_number is a user-defined function that calculates the square of a given number. Users can define functions tailored to their specific needs."
   ]
  },
  {
   "cell_type": "markdown",
   "id": "094ddba1",
   "metadata": {},
   "source": [
    "Key Differences:\n",
    "\n",
    "* Built-in functions are part of the Python language and are available for immediate use without additional definition.\n",
    "* User-defined functions are created by users to meet specific requirements and are defined using the def keyword.\n",
    "\n",
    " Both types of functions play crucial roles in Python programming, offering flexibility and convenience to developers."
   ]
  },
  {
   "cell_type": "code",
   "execution_count": null,
   "id": "c697738a",
   "metadata": {},
   "outputs": [],
   "source": [
    "2. How can you pass arguments to a function in Python? Explain the difference between positional\n",
    "arguments and keyword arguments."
   ]
  },
  {
   "cell_type": "markdown",
   "id": "b65897c5",
   "metadata": {},
   "source": [
    "In Python, you can pass arguments to a function in two main ways: positional arguments and keyword arguments.\n",
    "\n",
    "Passing Arguments:\n",
    "\n",
    "1. Positional Arguments:\n",
    "\n",
    "   * Positional arguments are passed to a function based on their position or order in the function's parameter list.\n",
    "   * The order in which you provide the arguments matters, as each argument is assigned to the corresponding parameter in the function definition."
   ]
  },
  {
   "cell_type": "code",
   "execution_count": 3,
   "id": "3571ae9b",
   "metadata": {},
   "outputs": [
    {
     "name": "stdout",
     "output_type": "stream",
     "text": [
      "Sum: 8\n"
     ]
    }
   ],
   "source": [
    "# Example\n",
    "def add_numbers(a, b):\n",
    "    return a + b\n",
    "\n",
    "result = add_numbers(5, 3)\n",
    "print(\"Sum:\", result)\n",
    "\n",
    "# In this example, 5 is assigned to a and 3 is assigned to b based on their positions in the function call."
   ]
  },
  {
   "cell_type": "markdown",
   "id": "1edb6f8a",
   "metadata": {},
   "source": [
    "2. Keyword Arguments:\n",
    "\n",
    "* Keyword arguments are passed to a function by explicitly specifying the parameter names along with their values.\n",
    "* This allows you to pass arguments out of order, making the function call more explicit and self-explanatory"
   ]
  },
  {
   "cell_type": "code",
   "execution_count": 4,
   "id": "d4d40d29",
   "metadata": {},
   "outputs": [
    {
     "name": "stdout",
     "output_type": "stream",
     "text": [
      "Hello, Alice! You are 25 years old.\n"
     ]
    }
   ],
   "source": [
    "# Example\n",
    "def greet(name, age):\n",
    "    print(f\"Hello, {name}! You are {age} years old.\")\n",
    "\n",
    "greet(age=25, name=\"Alice\")\n",
    "# n this example, the function greet is called with arguments in a different order, but the keyword names make it clear which value corresponds to which parameter."
   ]
  },
  {
   "cell_type": "markdown",
   "id": "5d834691",
   "metadata": {},
   "source": [
    "Default Values:\n",
    "You can also assign default values to parameters in a function, making them optional."
   ]
  },
  {
   "cell_type": "code",
   "execution_count": 5,
   "id": "96b53cc1",
   "metadata": {},
   "outputs": [
    {
     "name": "stdout",
     "output_type": "stream",
     "text": [
      "Hello, Bob!\n",
      "Hi, Alice!\n"
     ]
    }
   ],
   "source": [
    "# Example\n",
    "def greet(name, greeting=\"Hello\"):\n",
    "    print(f\"{greeting}, {name}!\")\n",
    "\n",
    "greet(\"Bob\")           # Uses default greeting \"Hello\"\n",
    "greet(\"Alice\", \"Hi\")   # Overrides default greeting with \"Hi\"\n",
    "\n",
    "\n",
    "# In this case, if you don't provide a value for greeting, it will use the default value \"Hello.\"\n",
    "# Understanding the difference between positional and keyword arguments is crucial for writing flexible and readable code."
   ]
  },
  {
   "cell_type": "code",
   "execution_count": null,
   "id": "00661f69",
   "metadata": {},
   "outputs": [],
   "source": [
    "3. What is the purpose of the return statement in a function? Can a function have multiple return\n",
    "statements? Explain with an example."
   ]
  },
  {
   "cell_type": "markdown",
   "id": "7941eb83",
   "metadata": {},
   "source": [
    "The return statement in a function is used to specify the value(s) that the function should return when it is called. \n",
    "It serves the purpose of sending data back from the function to the calling code. When a return statement is encountered, \n",
    "the function execution stops, and the specified value is returned to the caller.\n",
    "\n",
    "Purpose of the return Statement:\n",
    "\n",
    "1. Returning Values: The primary purpose is to return a result or data computed within the function to the calling code.\n",
    "\n",
    "2. Exiting Early: It can also be used to exit the function prematurely if needed."
   ]
  },
  {
   "cell_type": "code",
   "execution_count": 6,
   "id": "573d2de7",
   "metadata": {},
   "outputs": [
    {
     "name": "stdout",
     "output_type": "stream",
     "text": [
      "Sum: 8\n"
     ]
    }
   ],
   "source": [
    "# Example with a Single Return Statement:\n",
    "def add_numbers(a, b):\n",
    "    result = a + b\n",
    "    return result\n",
    "\n",
    "# Calling the function and storing the returned value\n",
    "sum_result = add_numbers(5, 3)\n",
    "print(\"Sum:\", sum_result)\n",
    "\n",
    "# In this example, the function add_numbers takes two arguments, adds them, and returns the result. The return result statement sends the computed result back to the calling code."
   ]
  },
  {
   "cell_type": "markdown",
   "id": "f6d46c08",
   "metadata": {},
   "source": [
    "Multiple Return Statements: \n",
    "    \n",
    "Yes, a function can have multiple return statements. The first encountered return statement will be executed, and the function will exit. Having multiple return statements is often used for conditional logic or different scenarios."
   ]
  },
  {
   "cell_type": "code",
   "execution_count": 7,
   "id": "14fa2785",
   "metadata": {},
   "outputs": [
    {
     "name": "stdout",
     "output_type": "stream",
     "text": [
      "8 is greater than 5\n"
     ]
    }
   ],
   "source": [
    "# Example with Multiple Return Statements:\n",
    "\n",
    "def compare_numbers(a, b):\n",
    "    if a > b:\n",
    "        return f\"{a} is greater than {b}\"\n",
    "    elif a < b:\n",
    "        return f\"{a} is less than {b}\"\n",
    "    else:\n",
    "        return f\"{a} and {b} are equal\"\n",
    "\n",
    "# Calling the function and printing the returned value\n",
    "result_message = compare_numbers(8, 5)\n",
    "print(result_message)\n",
    "\n",
    "# In this example, the function compare_numbers has multiple return statements based on the comparison of a and b. The appropriate statement is executed, and the function exits. Multiple returns allow the function to provide different results based on different conditions.\n",
    "\n",
    "# It's important to note that once a return statement is executed, the function exits, and any subsequent code in the function is not executed."
   ]
  },
  {
   "cell_type": "code",
   "execution_count": null,
   "id": "fb5d4c28",
   "metadata": {},
   "outputs": [],
   "source": [
    "4. What are lambda functions in Python? How are they different from regular functions? Provide an\n",
    "example where a lambda function can be useful."
   ]
  },
  {
   "cell_type": "markdown",
   "id": "a44ad4a3",
   "metadata": {},
   "source": [
    "Lambda functions, also known as anonymous functions, are a way to create small, unnamed functions in Python. They are defined using the lambda keyword and are often used for short, one-time operations.\n",
    "\n",
    "Syntax of a Lambda Function:\n",
    "    \n",
    "    lambda arguments: expression\n",
    "    \n",
    "\n",
    "Differences from Regular Functions:\n",
    "\n",
    "1. Syntax: Lambda functions are concise and written on a single line, while regular functions have a more elaborate syntax with the def keyword, function name, parameters, and a code block.\n",
    "\n",
    "2. Nameless: Lambda functions are anonymous; they don't have a name like regular functions. They are usually used for short-lived operations where a full function definition seems excessive."
   ]
  },
  {
   "cell_type": "code",
   "execution_count": 8,
   "id": "02e1c619",
   "metadata": {},
   "outputs": [
    {
     "name": "stdout",
     "output_type": "stream",
     "text": [
      "25\n",
      "25\n"
     ]
    }
   ],
   "source": [
    "# Example of a Lambda Function:\n",
    "    \n",
    "# Regular function to square a number\n",
    "def square(x):\n",
    "    return x ** 2\n",
    "\n",
    "# Equivalent lambda function\n",
    "lambda_square = lambda x: x ** 2\n",
    "\n",
    "# Using both functions\n",
    "print(square(5))         # Output: 25\n",
    "print(lambda_square(5))  # Output: 25\n",
    "\n",
    "# In this example, square is a regular function, and lambda_square is the equivalent lambda function. They both square a given number, but the lambda function is more concise."
   ]
  },
  {
   "cell_type": "markdown",
   "id": "8012088e",
   "metadata": {},
   "source": [
    "Use Case for Lambda Function:\n",
    "\n",
    "Lambda functions are often used in situations where a small, short-lived function is needed, such as in functional programming constructs like map, filter, and sorted. Let's look at an example using map:"
   ]
  },
  {
   "cell_type": "code",
   "execution_count": 9,
   "id": "61cde6c5",
   "metadata": {},
   "outputs": [
    {
     "name": "stdout",
     "output_type": "stream",
     "text": [
      "[1, 4, 9, 16, 25]\n"
     ]
    }
   ],
   "source": [
    "# Using a lambda function with map to square each element in a list\n",
    "numbers = [1, 2, 3, 4, 5]\n",
    "squared_numbers = list(map(lambda x: x ** 2, numbers))\n",
    "\n",
    "print(squared_numbers)  # Output: [1, 4, 9, 16, 25]\n",
    "\n",
    "# Here, the lambda function is used with map to apply the squaring operation to each element in the list numbers. It's a concise way to express a short operation without defining a full-fledged function."
   ]
  },
  {
   "cell_type": "code",
   "execution_count": null,
   "id": "b3eb29f4",
   "metadata": {},
   "outputs": [],
   "source": [
    "5. How does the concept of \"scope\" apply to functions in Python? Explain the difference between local\n",
    "scope and global scope."
   ]
  },
  {
   "cell_type": "markdown",
   "id": "e9cfcad8",
   "metadata": {},
   "source": [
    "In Python, the concept of \"scope\" refers to the region or context in which a variable is defined and can be accessed. The scope determines the visibility and accessibility of a variable within different parts of the code.\n",
    "\n",
    "Local Scope:\n",
    "\n",
    "* A variable defined inside a function is said to have a local scope.\n",
    "* It is accessible only within that function and is not visible outside of it.\n",
    "* Local variables are typically created when the function is called and destroyed when the function exits."
   ]
  },
  {
   "cell_type": "code",
   "execution_count": null,
   "id": "34862275",
   "metadata": {},
   "outputs": [],
   "source": [
    "# Example\n",
    "\n",
    "def my_function():\n",
    "    local_variable = 10\n",
    "    print(\"Inside the function:\", local_variable)\n",
    "\n",
    "my_function()\n",
    "\n",
    "# Accessing the local_variable outside the function will result in an error\n",
    "# print(\"Outside the function:\", local_variable)  # Uncommenting this line will raise an error\n",
    "\n",
    "# In this example, local_variable is defined within the function my_function, making it accessible only inside the function. Trying to access it outside the function will result in an error."
   ]
  },
  {
   "cell_type": "markdown",
   "id": "349d6600",
   "metadata": {},
   "source": [
    "Global Scope:\n",
    "\n",
    "* A variable defined outside any function or block of code has a global scope.\n",
    "* It is accessible throughout the entire code, including inside functions.\n",
    "* Global variables can be modified within functions if explicitly specified using the global keyword."
   ]
  },
  {
   "cell_type": "code",
   "execution_count": 10,
   "id": "27b457be",
   "metadata": {},
   "outputs": [
    {
     "name": "stdout",
     "output_type": "stream",
     "text": [
      "Outside the function: 20\n"
     ]
    }
   ],
   "source": [
    "# Example\n",
    "\n",
    "global_variable = 20\n",
    "\n",
    "def my_function():\n",
    "    print(\"Inside the function:\", global_variable)\n",
    "\n",
    "# Accessing the global_variable outside the function is allowed\n",
    "print(\"Outside the function:\", global_variable)\n",
    "\n",
    "# In this example, global_variable is defined outside the function, making it accessible both inside and outside the function. Changes made to the global variable inside the function are reflected globally."
   ]
  },
  {
   "cell_type": "markdown",
   "id": "0e8a4914",
   "metadata": {},
   "source": [
    "Scope Hierarchy:\n",
    "\n",
    "* Python follows the LEGB (Local, Enclosing, Global, Built-in) rule to search for the value of a variable. It starts looking for the variable in the local scope, then the enclosing (if inside a nested function), followed by the global scope, and finally in the built-in scope.\n",
    "\n",
    " Understanding scope is crucial for avoiding naming conflicts, organizing code, and managing the lifetime and visibility of variables. Local and global scopes allow for a modular and organized approach to programming."
   ]
  },
  {
   "cell_type": "code",
   "execution_count": null,
   "id": "27d1efd2",
   "metadata": {},
   "outputs": [],
   "source": [
    "6. How can you use the \"return\" statement in a Python function to return multiple values?"
   ]
  },
  {
   "cell_type": "markdown",
   "id": "3875e066",
   "metadata": {},
   "source": [
    "In Python, you can use the return statement in a function to return multiple values by separating them with commas.      This technique is often referred to as \"tuple packing\" and \"tuple unpacking.\"\n",
    "\n",
    "Returning Multiple Values:"
   ]
  },
  {
   "cell_type": "code",
   "execution_count": 11,
   "id": "18bd28a6",
   "metadata": {},
   "outputs": [
    {
     "name": "stdout",
     "output_type": "stream",
     "text": [
      "X Coordinate: 5\n",
      "Y Coordinate: 10\n",
      "Z Coordinate: 15\n"
     ]
    }
   ],
   "source": [
    "# example\n",
    "def get_coordinates():\n",
    "    x = 5\n",
    "    y = 10\n",
    "    z = 15\n",
    "    return x, y, z\n",
    "\n",
    "# Calling the function and unpacking the returned values\n",
    "result_x, result_y, result_z = get_coordinates()\n",
    "\n",
    "print(\"X Coordinate:\", result_x)\n",
    "print(\"Y Coordinate:\", result_y)\n",
    "print(\"Z Coordinate:\", result_z)\n",
    "\n",
    "# In this example, the function get_coordinates returns three values (x, y, and z) separated by commas. When calling the function, we unpack the returned values into separate variables (result_x, result_y, and result_z)."
   ]
  },
  {
   "cell_type": "markdown",
   "id": "2800e2d1",
   "metadata": {},
   "source": [
    "Using a Tuple:\n",
    "    \n",
    "Alternatively, you can return the values as a tuple and unpack them outside the function."
   ]
  },
  {
   "cell_type": "code",
   "execution_count": 12,
   "id": "1dcee532",
   "metadata": {},
   "outputs": [
    {
     "name": "stdout",
     "output_type": "stream",
     "text": [
      "X Coordinate: 5\n",
      "Y Coordinate: 10\n",
      "Z Coordinate: 15\n"
     ]
    }
   ],
   "source": [
    "def get_coordinates():\n",
    "    x = 5\n",
    "    y = 10\n",
    "    z = 15\n",
    "    return x, y, z\n",
    "\n",
    "# Calling the function and getting the returned tuple\n",
    "result_tuple = get_coordinates()\n",
    "\n",
    "# Unpacking the tuple outside the function\n",
    "result_x, result_y, result_z = result_tuple\n",
    "\n",
    "print(\"X Coordinate:\", result_x)\n",
    "print(\"Y Coordinate:\", result_y)\n",
    "print(\"Z Coordinate:\", result_z)\n",
    "\n",
    "# In this version, the function returns a tuple, and we unpack the tuple outside the function.\n",
    "\n",
    "This approach allows functions to return multiple values without resorting to more complex data structures. \n",
    "When using tuple packing and unpacking, the order of the returned values is crucial, as they are unpacked in the \n",
    "same order they are packed.\n"
   ]
  },
  {
   "cell_type": "code",
   "execution_count": null,
   "id": "e883a3fa",
   "metadata": {},
   "outputs": [],
   "source": [
    "7. What is the difference between the \"pass by value\" and \"pass by reference\" concepts when it\n",
    "comes to function arguments in Python?"
   ]
  },
  {
   "cell_type": "markdown",
   "id": "da2fad55",
   "metadata": {},
   "source": [
    "In Python, the concepts of \"pass by value\" and \"pass by reference\" are often discussed in the context of function arguments. However, it's important to note that Python uses a different model called \"pass by object reference.\"\n",
    "\n",
    "Pass by Object Reference:\n",
    "\n",
    "* In Python, when you pass an argument to a function, you are passing the reference to the object, not the actual object itself.\n",
    "* Changes made to the object within the function are reflected outside the function.\n",
    "* However, whether the object is mutable or immutable plays a role in how modifications are observed.\n",
    "\n",
    "Pass by Value:\n",
    "\n",
    "* In a pure \"pass by value\" system, a copy of the variable's value is passed to the function.\n",
    "* Modifications made to the parameter within the function do not affect the original variable.\n",
    "\n",
    "Pass by Reference:\n",
    "\n",
    "* In a \"pass by reference\" system, a reference (memory address) to the variable is passed to the function.\n",
    "* Modifications made to the parameter within the function affect the original variable."
   ]
  },
  {
   "cell_type": "code",
   "execution_count": 13,
   "id": "9e9157f7",
   "metadata": {},
   "outputs": [
    {
     "name": "stdout",
     "output_type": "stream",
     "text": [
      "Original List: [1, 2, 3, 4]\n"
     ]
    }
   ],
   "source": [
    "# Example illustrating Pass by Object Reference:\n",
    "\n",
    "def modify_list(my_list):\n",
    "    my_list.append(4)\n",
    "    my_list = [10, 20, 30]\n",
    "\n",
    "original_list = [1, 2, 3]\n",
    "modify_list(original_list)\n",
    "\n",
    "print(\"Original List:\", original_list)\n",
    "\n",
    "# In this example, even though my_list is modified within the function, the reference to the original list is still intact, and the changes are reflected outside the function. The output will be \"Original List: [1, 2, 3, 4]\"."
   ]
  },
  {
   "cell_type": "markdown",
   "id": "c5bdc272",
   "metadata": {},
   "source": [
    "Mutable vs. Immutable Objects:\n",
    "\n",
    "* When a mutable object (e.g., a list) is modified within a function, the changes persist outside the function.\n",
    "* When an immutable object (e.g., an integer or tuple) is \"modified,\" a new object is created, and the original object remains unchanged.\n",
    "\n",
    "Understanding this distinction is crucial for writing robust and predictable code in Python. The term \"pass by object reference\" more accurately reflects how Python handles function arguments."
   ]
  },
  {
   "cell_type": "code",
   "execution_count": null,
   "id": "2776c62c",
   "metadata": {},
   "outputs": [],
   "source": [
    "8. Create a function that can intake integer or decimal value and do following operations:\n",
    "    a. Logarithmic function (log x)\n",
    "    b. Exponential function (exp(x))\n",
    "    c. Power function with base 2 (2\n",
    "x\n",
    ")\n",
    "    d. Square root"
   ]
  },
  {
   "cell_type": "code",
   "execution_count": 14,
   "id": "4c4f37ce",
   "metadata": {},
   "outputs": [
    {
     "name": "stdout",
     "output_type": "stream",
     "text": [
      "Logarithmic Function (log x): 1.3862943611198906\n",
      "Exponential Function (exp(x)): 54.598150033144236\n",
      "Power Function with Base 2 (2^x): 16.0\n",
      "Square Root: 2.0\n"
     ]
    }
   ],
   "source": [
    "# Here's a Python function that takes an integer or decimal value and performs the specified operations:\n",
    "\n",
    "import math\n",
    "\n",
    "def math_operations(x):\n",
    "    # Logarithmic function (log x)\n",
    "    log_result = math.log(x)\n",
    "\n",
    "    # Exponential function (exp(x))\n",
    "    exp_result = math.exp(x)\n",
    "\n",
    "    # Power function with base 2 (2^x)\n",
    "    power_result = 2 ** x\n",
    "\n",
    "    # Square root\n",
    "    sqrt_result = math.sqrt(x)\n",
    "\n",
    "    # Returning a dictionary with results for each operation\n",
    "    return {\n",
    "        'Logarithmic Function (log x)': log_result,\n",
    "        'Exponential Function (exp(x))': exp_result,\n",
    "        'Power Function with Base 2 (2^x)': power_result,\n",
    "        'Square Root': sqrt_result\n",
    "    }\n",
    "\n",
    "# Example usage:\n",
    "input_value = 4.0  # You can change this to any integer or decimal value\n",
    "\n",
    "results = math_operations(input_value)\n",
    "\n",
    "# Displaying the results\n",
    "for operation, result in results.items():\n",
    "    print(f\"{operation}: {result}\")\n",
    "\n",
    "\n",
    "# This function uses the math module to perform the logarithmic, exponential, and square root operations. The power function with base 2 is calculated using the exponentiation operator (**). You can change the input_value to test the function with different values."
   ]
  },
  {
   "cell_type": "code",
   "execution_count": null,
   "id": "a51c8739",
   "metadata": {},
   "outputs": [],
   "source": [
    "9. Create a function that takes a full name as an argument and returns first name and last name."
   ]
  },
  {
   "cell_type": "code",
   "execution_count": 15,
   "id": "31d04750",
   "metadata": {},
   "outputs": [
    {
     "name": "stdout",
     "output_type": "stream",
     "text": [
      "First Name: John\n",
      "Last Name: Doe\n"
     ]
    }
   ],
   "source": [
    "#You can create a function that takes a full name as an argument and returns the first name and last name. Here's an example:\n",
    "\n",
    "def extract_names(full_name):\n",
    "    # Splitting the full name into first name and last name\n",
    "    names = full_name.split()\n",
    "\n",
    "    # Handling cases where only one name is provided or more than two names are provided\n",
    "    if len(names) == 2:\n",
    "        first_name, last_name = names\n",
    "    elif len(names) > 2:\n",
    "        first_name = names[0]\n",
    "        last_name = ' '.join(names[1:])\n",
    "    else:\n",
    "        # If only one name is provided, consider it as the first name\n",
    "        first_name = full_name\n",
    "        last_name = \"\"\n",
    "\n",
    "    return {\n",
    "        'First Name': first_name,\n",
    "        'Last Name': last_name\n",
    "    }\n",
    "\n",
    "# Example usage:\n",
    "full_name_input = \"John Doe\"  # You can change this to any full name\n",
    "\n",
    "name_parts = extract_names(full_name_input)\n",
    "\n",
    "# Displaying the results\n",
    "for name_type, name in name_parts.items():\n",
    "    print(f\"{name_type}: {name}\")\n",
    "\n",
    "# This function splits the full name using the split method, assuming that names are separated by spaces. It then handles cases where only one name or more than two names are provided, assigning the appropriate values to the first name and last name. You can change the full_name_input to test the function with different full names."
   ]
  },
  {
   "cell_type": "code",
   "execution_count": null,
   "id": "fd2effa7",
   "metadata": {},
   "outputs": [],
   "source": []
  }
 ],
 "metadata": {
  "kernelspec": {
   "display_name": "Python 3 (ipykernel)",
   "language": "python",
   "name": "python3"
  },
  "language_info": {
   "codemirror_mode": {
    "name": "ipython",
    "version": 3
   },
   "file_extension": ".py",
   "mimetype": "text/x-python",
   "name": "python",
   "nbconvert_exporter": "python",
   "pygments_lexer": "ipython3",
   "version": "3.10.9"
  }
 },
 "nbformat": 4,
 "nbformat_minor": 5
}
