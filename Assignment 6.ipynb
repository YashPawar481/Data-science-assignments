{
 "cells": [
  {
   "cell_type": "code",
   "execution_count": null,
   "id": "c378f4d9",
   "metadata": {},
   "outputs": [],
   "source": [
    "Q.1. What are keywords in python? Using the keyword library, print all the python keywords."
   ]
  },
  {
   "cell_type": "markdown",
   "id": "b9044f75",
   "metadata": {},
   "source": [
    "In Python, keywords are reserved words that have a specific meaning and cannot be used as identifiers (variable names, function names, etc.). These words are part of the language syntax and serve various purposes.\n",
    "\n",
    "To print all the Python keywords, you can use the keyword module. Here's a simple script to achieve that:"
   ]
  },
  {
   "cell_type": "code",
   "execution_count": 1,
   "id": "1a8c7da8",
   "metadata": {},
   "outputs": [
    {
     "name": "stdout",
     "output_type": "stream",
     "text": [
      "Python Keywords:\n",
      "False\n",
      "None\n",
      "True\n",
      "and\n",
      "as\n",
      "assert\n",
      "async\n",
      "await\n",
      "break\n",
      "class\n",
      "continue\n",
      "def\n",
      "del\n",
      "elif\n",
      "else\n",
      "except\n",
      "finally\n",
      "for\n",
      "from\n",
      "global\n",
      "if\n",
      "import\n",
      "in\n",
      "is\n",
      "lambda\n",
      "nonlocal\n",
      "not\n",
      "or\n",
      "pass\n",
      "raise\n",
      "return\n",
      "try\n",
      "while\n",
      "with\n",
      "yield\n"
     ]
    }
   ],
   "source": [
    "# example\n",
    "import keyword\n",
    "\n",
    "all_keywords = keyword.kwlist\n",
    "\n",
    "print(\"Python Keywords:\")\n",
    "for kw in all_keywords:\n",
    "    print(kw)\n",
    "    \n",
    "This script imports the keyword module and uses the kwlist attribute to get a list of all Python keywords. \n",
    "It then prints each keyword on a new line."
   ]
  },
  {
   "cell_type": "code",
   "execution_count": null,
   "id": "b7384356",
   "metadata": {},
   "outputs": [],
   "source": [
    "Q.2. What are the rules to create variables in python?"
   ]
  },
  {
   "cell_type": "markdown",
   "id": "30b9a615",
   "metadata": {},
   "source": [
    "In Python, variables are used to store and manage data. Here are the rules for creating variables in Python:\n",
    "\n",
    "1. Variable Name Rules:\n",
    "\n",
    "* Variable names can contain letters (a-z, A-Z), digits (0-9), and the underscore character (_).\n",
    "* They cannot start with a digit.\n",
    "* Python is case-sensitive, so myVar and myvar are considered different variables.\n",
    "\n",
    "2. Reserved Words:\n",
    "\n",
    "* Avoid using Python keywords as variable names. For example, you cannot name a variable if or while as these are reserved for specific language constructs.\n",
    "\n",
    "3. Whitespace:\n",
    "\n",
    "* Variable names cannot contain spaces. Use underscores or camelCase to represent spaces (e.g., my_variable or myVariable).\n",
    "\n",
    "4. Special Characters:\n",
    "\n",
    "* Avoid using special characters such as !, @, #, $, %, etc. in variable names.\n",
    "\n",
    "5. Length Limitation:\n",
    "\n",
    "* While there is no strict limit, it's good practice to keep variable names reasonably short and descriptive.\n",
    "\n",
    "6. Best Practices:\n",
    "\n",
    "* Choose descriptive and meaningful names for your variables. This improves code readability.\n",
    "* Follow a consistent naming convention. For example, use snake_case (my_variable) or CamelCase (myVariable) based on the conventions in your project or PEP 8 style guide.\n"
   ]
  },
  {
   "cell_type": "code",
   "execution_count": 4,
   "id": "43bcc8fa",
   "metadata": {},
   "outputs": [],
   "source": [
    "# Examples of valid variable names: \n",
    "\n",
    "age = 25\n",
    "name = \"John\"\n",
    "is_student = True\n",
    "my_variable = 42\n",
    "\n",
    "# Examples of invalid variable names:\n",
    "\n",
    "3dogs = \"Invalid\"  # Starts with a digit\n",
    "my variable = 10   # Contains a space\n",
    "if = 5             # Uses a reserved keyword\n",
    "special@char = 7   # Contains a special character"
   ]
  },
  {
   "cell_type": "code",
   "execution_count": null,
   "id": "d7672255",
   "metadata": {},
   "outputs": [],
   "source": [
    "Q.3. What are the standards and conventions followed for the nomenclature of variables in\n",
    "     python to improve code readability and maintainability?"
   ]
  },
  {
   "cell_type": "markdown",
   "id": "8c4078bf",
   "metadata": {},
   "source": [
    "In Python, adhering to naming standards and conventions is crucial for writing clean, readable, and maintainable code. The official style guide for Python is outlined in PEP 8 (Python Enhancement Proposal 8). Here are some key conventions for variable naming:\n",
    "\n",
    "1.Snake Case:\n",
    "\n",
    "* Use lowercase letters with underscores to separate words in variable names. For example: my_variable, total_count, user_name.\n",
    "\n",
    "2. Camel Case:\n",
    "\n",
    "* For variable names in classes, use CamelCase (capitalize each word except the first one). For example: firstName, totalAmount, calculateTotal.\n",
    "\n",
    "3. Avoid Single Letters:\n",
    "\n",
    "* Except for simple loop variables, avoid using single-letter variable names like i, j, or k unless the context is clear and they have a specific meaning.\n",
    "\n",
    "4. Descriptive and Meaningful:\n",
    "\n",
    "* Choose variable names that convey the purpose or meaning of the variable. This improves code readability. For example: customer_age is more descriptive than age.\n",
    "\n",
    "5. Avoid Reserved Words:\n",
    "\n",
    "* Do not use Python keywords or built-in function names as variable names. For example, avoid names like if, else, print, etc.\n",
    "\n",
    "6. Constants:\n",
    "\n",
    "* Use all-uppercase letters with underscores to represent constants. For example: MAX_VALUE, PI, DEFAULT_COLOR.\n",
    "\n",
    "7. Module Level Constants:\n",
    "\n",
    "* If a variable is intended to be used as a constant within a module, consider using all uppercase letters with underscores, even if it's not a true constant.\n",
    "\n",
    "8. Private Variables:\n",
    "\n",
    "* Variables that are meant to be private (not part of the public API) can be prefixed with a single underscore. \n",
    "  For       example: _internal_variable.\n",
    "  \n",
    "9. Double Underscore Prefix:\n",
    "\n",
    "* Variables with a double underscore prefix (e.g., __private_variable) are considered \"dunder\" (double underscore) or magic methods and are used for special purposes in classes.\n",
    "\n",
    "10. Consistency:\n",
    "\n",
    "* Maintain consistency throughout your codebase. Follow the same naming conventions for similar entities.\n",
    "\n",
    "By following these conventions, your code becomes more consistent and readable. PEP 8 provides comprehensive guidelines for Python code style, including variable naming conventions, and is widely followed in the Python community."
   ]
  },
  {
   "cell_type": "code",
   "execution_count": null,
   "id": "0a6daa74",
   "metadata": {},
   "outputs": [],
   "source": [
    "Q.4. What will happen if a keyword is used as a variable name?"
   ]
  },
  {
   "cell_type": "markdown",
   "id": "ed1837a2",
   "metadata": {},
   "source": [
    "Ans.\n",
    "If you use a keyword as a variable name in Python, you will encounter a syntax error. Keywords are reserved words that have special meanings in the Python language and cannot be used as identifiers (variable names, function names, etc.).\n",
    "\n",
    "For example, if you try to use a keyword like if or while as a variable name, Python will raise a SyntaxError. Let's take an example:\n",
    "\n",
    "# example\n",
    "\n",
    "if = 5  # Using 'if' as a variable name, which is a keyword\n",
    "\n",
    "When you try to run this code, you will get an error message similar to:\n",
    "    \n",
    "SyntaxError: invalid syntax\n",
    "\n",
    "To avoid such errors, it's essential to choose variable names that are not reserved keywords. If you need to convey a similar meaning, you can use synonyms or add additional descriptive words to your variable name. This ensures that your code is both correct and follows Python's syntax rules."
   ]
  },
  {
   "cell_type": "code",
   "execution_count": null,
   "id": "56adffc9",
   "metadata": {},
   "outputs": [],
   "source": [
    "Q.5. For what purpose def keyword is used?"
   ]
  },
  {
   "cell_type": "markdown",
   "id": "165ddae3",
   "metadata": {},
   "source": [
    "The def keyword in Python is used to define a function. Functions are blocks of reusable code that perform a specific task. Using def, you can create functions with a name, parameters, and a block of code that is executed when the function is called.\n",
    "\n",
    "Here's the basic syntax of a function using the def keyword:"
   ]
  },
  {
   "cell_type": "code",
   "execution_count": 6,
   "id": "48db6633",
   "metadata": {},
   "outputs": [],
   "source": [
    "def function_name(parameters):\n",
    "    # Code block\n",
    "    # Perform some tasks\n",
    "    return result  # Optional, used to return a value"
   ]
  },
  {
   "cell_type": "markdown",
   "id": "ecb28733",
   "metadata": {},
   "source": [
    "* def: This keyword signals the start of a function definition.\n",
    "* function_name: This is the name of the function, following the variable naming conventions.\n",
    "* parameters: These are optional input values that the function can accept. If there are no parameters, you still need to include empty parentheses ().\n",
    "* : (colon): It indicates the beginning of the function body.\n",
    "* Code block: This is the actual code that the function executes.\n",
    "* return: This keyword is used to specify the value that the function should return. It's optional, and if not present, the function returns None."
   ]
  },
  {
   "cell_type": "code",
   "execution_count": 7,
   "id": "0db2b5e9",
   "metadata": {},
   "outputs": [
    {
     "name": "stdout",
     "output_type": "stream",
     "text": [
      "Hello, Alice!\n"
     ]
    }
   ],
   "source": [
    "# Here's a simple example:\n",
    "def greet(name):\n",
    "    \"\"\"This function greets the person passed in as a parameter.\"\"\"\n",
    "    print(f\"Hello, {name}!\")\n",
    "\n",
    "# Calling the function\n",
    "greet(\"Alice\")\n"
   ]
  },
  {
   "cell_type": "markdown",
   "id": "807e6326",
   "metadata": {},
   "source": [
    "In this example, the def keyword is used to define a function named greet that takes a parameter name. When the function is called with greet(\"Alice\"), it prints a greeting message using the provided name.\n",
    "\n",
    "Functions are fundamental for structuring code, promoting code reuse, and making programs more modular and easier to understand."
   ]
  },
  {
   "cell_type": "code",
   "execution_count": null,
   "id": "0fe74da9",
   "metadata": {},
   "outputs": [],
   "source": [
    "Q.6. What is the operation of this special character ‘\\’?"
   ]
  },
  {
   "cell_type": "markdown",
   "id": "e9c7372a",
   "metadata": {},
   "source": [
    "Ans.\n",
    "In Python strings, the backslash \"\\\" is a special character, also called the \"escape\" character. It is used in representing certain whitespace characters: \"\\t\" is a tab, \"\\n\" is a newline, and \"\\r\" is a carriage return. Conversely, prefixing a special character with \"\\\" turns it into an ordinary character."
   ]
  },
  {
   "cell_type": "code",
   "execution_count": null,
   "id": "d722af12",
   "metadata": {},
   "outputs": [],
   "source": [
    "Q.7. Give an example of the following conditions:\n",
    "     (i) Homogeneous list\n",
    "     (ii) Heterogeneous set\n",
    "     (iii) Homogeneous tuple"
   ]
  },
  {
   "cell_type": "code",
   "execution_count": null,
   "id": "afea68cc",
   "metadata": {},
   "outputs": [],
   "source": [
    "Certainly! Let's explore examples for each of the conditions:\n",
    "\n",
    "(i) Homogeneous List:\n",
    "A homogeneous list contains elements of the same data type. Here's an example of a homogeneous list of integers:"
   ]
  },
  {
   "cell_type": "code",
   "execution_count": 8,
   "id": "3e8076b2",
   "metadata": {},
   "outputs": [
    {
     "name": "stdout",
     "output_type": "stream",
     "text": [
      "Homogeneous List of Integers: [1, 2, 3, 4, 5]\n"
     ]
    }
   ],
   "source": [
    "homogeneous_list_int = [1, 2, 3, 4, 5]\n",
    "print(\"Homogeneous List of Integers:\", homogeneous_list_int)\n",
    "\n",
    "# In this example, all elements in the list homogeneous_list_int are of the same data type, which is integers."
   ]
  },
  {
   "cell_type": "code",
   "execution_count": null,
   "id": "a1229fbb",
   "metadata": {},
   "outputs": [],
   "source": [
    "(ii) Heterogeneous Set:\n",
    "A heterogeneous set contains elements of different data types. Here's an example of a heterogeneous set:"
   ]
  },
  {
   "cell_type": "code",
   "execution_count": 9,
   "id": "ca4036f6",
   "metadata": {},
   "outputs": [
    {
     "name": "stdout",
     "output_type": "stream",
     "text": [
      "Heterogeneous Set: {1, 2.5, 'hello'}\n"
     ]
    }
   ],
   "source": [
    "heterogeneous_set = {1, 2.5, \"hello\", True}\n",
    "print(\"Heterogeneous Set:\", heterogeneous_set)\n",
    "\n",
    "# In this example, the set heterogeneous_set includes elements of different data types, including an integer (1), a floating-point number (2.5), a string (\"hello\"), and a boolean (True)."
   ]
  },
  {
   "cell_type": "code",
   "execution_count": null,
   "id": "651b3829",
   "metadata": {},
   "outputs": [],
   "source": [
    "(iii) Homogeneous Tuple:\n",
    "A homogeneous tuple contains elements of the same data type. Here's an example of a homogeneous tuple of strings:"
   ]
  },
  {
   "cell_type": "code",
   "execution_count": 10,
   "id": "3421bbad",
   "metadata": {},
   "outputs": [
    {
     "name": "stdout",
     "output_type": "stream",
     "text": [
      "Homogeneous Tuple of Strings: ('apple', 'banana', 'orange', 'grape')\n"
     ]
    }
   ],
   "source": [
    "homogeneous_tuple_str = (\"apple\", \"banana\", \"orange\", \"grape\")\n",
    "print(\"Homogeneous Tuple of Strings:\", homogeneous_tuple_str)\n",
    "\n",
    "# In this example, all elements in the tuple homogeneous_tuple_str are of the same data type, which is strings.\n",
    "\n",
    "# These examples illustrate the concepts of homogeneous and heterogeneous collections (lists, sets, and tuples) in Python."
   ]
  },
  {
   "cell_type": "code",
   "execution_count": null,
   "id": "381ec637",
   "metadata": {},
   "outputs": [],
   "source": [
    "Q.8. Explain the mutable and immutable data types with proper explanation & examples."
   ]
  },
  {
   "cell_type": "markdown",
   "id": "433414d1",
   "metadata": {},
   "source": [
    "Sure, let's dive into the concepts of mutable and immutable data types in Python.\n",
    "\n",
    "Mutable Data Types:\n",
    "A mutable data type is one whose value can be changed or modified after it is created. This means you can modify the contents of the object without creating a new object. Lists and dictionaries are examples of mutable data types.\n"
   ]
  },
  {
   "cell_type": "code",
   "execution_count": 1,
   "id": "dea452e3",
   "metadata": {},
   "outputs": [
    {
     "name": "stdout",
     "output_type": "stream",
     "text": [
      "Original List: [1, 2, 3, 4]\n",
      "Modified List: [1, 10, 3, 4]\n"
     ]
    }
   ],
   "source": [
    "# Example of a Mutable Data Type - List:\n",
    "\n",
    "mutable_list = [1, 2, 3, 4]\n",
    "print(\"Original List:\", mutable_list)\n",
    "\n",
    "# Modify the list\n",
    "mutable_list[1] = 10\n",
    "print(\"Modified List:\", mutable_list)\n",
    "\n",
    "# In this example, the list mutable_list can be modified by changing the value at index 1 without creating a new list."
   ]
  },
  {
   "cell_type": "markdown",
   "id": "17fbfc00",
   "metadata": {},
   "source": [
    "Immutable Data Types:\n",
    "\n",
    "An immutable data type, on the other hand, is one whose value cannot be changed after it is created. Any operation that appears to modify the data type actually creates a new object. Examples of immutable data types include integers, floats, strings, tuples, and frozensets."
   ]
  },
  {
   "cell_type": "code",
   "execution_count": 2,
   "id": "ddc4eab2",
   "metadata": {},
   "outputs": [
    {
     "name": "stdout",
     "output_type": "stream",
     "text": [
      "Original Tuple: (1, 2, 3, 4)\n"
     ]
    }
   ],
   "source": [
    "# Example of an Immutable Data Type - Tuple:\n",
    "\n",
    "immutable_tuple = (1, 2, 3, 4)\n",
    "print(\"Original Tuple:\", immutable_tuple)\n",
    "\n",
    "# Attempt to modify the tuple (will result in an error)\n",
    "# immutable_tuple[1] = 10  # Uncommenting this line will raise a TypeError\n",
    "\n",
    "# In this example, attempting to modify the tuple immutable_tuple by changing the value at index 1 will result in a TypeError because tuples are immutable."
   ]
  },
  {
   "cell_type": "code",
   "execution_count": null,
   "id": "8d26056d",
   "metadata": {},
   "outputs": [],
   "source": [
    "Q.9. Write a code to create the given structure using only for loop.\n",
    "    *\n",
    "   ***\n",
    "  *****\n",
    " *******\n",
    "*********  "
   ]
  },
  {
   "cell_type": "code",
   "execution_count": 4,
   "id": "6cb1e9b6",
   "metadata": {},
   "outputs": [
    {
     "name": "stdout",
     "output_type": "stream",
     "text": [
      "    *\n",
      "   ***\n",
      "  *****\n",
      " *******\n",
      "*********\n"
     ]
    }
   ],
   "source": [
    "rows = 5\n",
    "\n",
    "for i in range(1, rows + 1):\n",
    "    # Print spaces\n",
    "    for j in range(rows - i):\n",
    "        print(\" \", end=\"\")\n",
    "    \n",
    "    # Print stars\n",
    "    for k in range(2 * i - 1):\n",
    "        print(\"*\", end=\"\")\n",
    "    \n",
    "    # Move to the next line after each row\n",
    "    print()\n",
    "    \n",
    "This code uses two nested for loops to print spaces and stars in the required pattern. The outer loop \n",
    "(for i in range(1, rows + 1)) is responsible for iterating through each row, and the inner loops handle printing spaces \n",
    "and stars based on the current row number."
   ]
  },
  {
   "cell_type": "code",
   "execution_count": null,
   "id": "b04c4673",
   "metadata": {},
   "outputs": [],
   "source": [
    "Q.10. Write a code to create the given structure using while loop.\n",
    "|||||||||\n",
    " |||||||\n",
    "  |||||\n",
    "   |||\n",
    "    |"
   ]
  },
  {
   "cell_type": "code",
   "execution_count": 5,
   "id": "1e3db0b9",
   "metadata": {},
   "outputs": [
    {
     "name": "stdout",
     "output_type": "stream",
     "text": [
      "|||||||||\n",
      " |||||||\n",
      "  |||||\n",
      "   |||\n",
      "    |\n"
     ]
    }
   ],
   "source": [
    "rows = 5\n",
    "i = 0\n",
    "\n",
    "while i < rows:\n",
    "    # Print spaces\n",
    "    j = 0\n",
    "    while j < i:\n",
    "        print(\" \", end=\"\")\n",
    "        j += 1\n",
    "    \n",
    "    # Print pipes\n",
    "    k = 0\n",
    "    while k < (rows - i) * 2 - 1:\n",
    "        print(\"|\", end=\"\")\n",
    "        k += 1\n",
    "    \n",
    "    # Move to the next line after each row\n",
    "    print()\n",
    "    \n",
    "    i += 1\n",
    "    \n",
    "This code uses a while loop to print spaces and pipes in the required pattern. The outer loop (while i < rows) is \n",
    "responsible for iterating through each row, and the inner loops handle printing spaces and pipes based on the current \n",
    "row number."
   ]
  },
  {
   "cell_type": "code",
   "execution_count": null,
   "id": "ade42e6b",
   "metadata": {},
   "outputs": [],
   "source": []
  }
 ],
 "metadata": {
  "kernelspec": {
   "display_name": "Python 3 (ipykernel)",
   "language": "python",
   "name": "python3"
  },
  "language_info": {
   "codemirror_mode": {
    "name": "ipython",
    "version": 3
   },
   "file_extension": ".py",
   "mimetype": "text/x-python",
   "name": "python",
   "nbconvert_exporter": "python",
   "pygments_lexer": "ipython3",
   "version": "3.10.9"
  }
 },
 "nbformat": 4,
 "nbformat_minor": 5
}
