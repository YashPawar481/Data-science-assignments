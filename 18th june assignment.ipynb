{
 "cells": [
  {
   "cell_type": "code",
   "execution_count": null,
   "id": "5deaba23",
   "metadata": {},
   "outputs": [],
   "source": [
    "1. What is the role of the 'else' block in a try-except statement? Provide an example\n",
    "   scenario where it would be useful."
   ]
  },
  {
   "cell_type": "markdown",
   "id": "03559627",
   "metadata": {},
   "source": [
    "The else block in a try-except statement is executed when the try block does not raise any exceptions. It provides a way to specify a block of code that should run only if the try block completes successfully, without encountering any exceptions."
   ]
  },
  {
   "cell_type": "code",
   "execution_count": null,
   "id": "297207e6",
   "metadata": {},
   "outputs": [],
   "source": [
    "# Here's the basic structure:\n",
    "\n",
    "try:\n",
    "    # Code that might raise an exception\n",
    "except SomeException:\n",
    "    # Code to handle the exception\n",
    "else:\n",
    "    # Code to be executed if no exception occurred in the try block\n"
   ]
  },
  {
   "cell_type": "markdown",
   "id": "24f03f67",
   "metadata": {},
   "source": [
    "The else block is optional, and it is often used to place code that should run when the primary operation in the try block succeeds."
   ]
  },
  {
   "cell_type": "code",
   "execution_count": 3,
   "id": "f56bb431",
   "metadata": {},
   "outputs": [
    {
     "name": "stdout",
     "output_type": "stream",
     "text": [
      "Enter the numerator: 60\n",
      "Enter the denominator: 3\n",
      "The result of division: 20.0\n"
     ]
    }
   ],
   "source": [
    "# Example scenario where the else block is useful:\n",
    "\n",
    "def divide_numbers():\n",
    "    try:\n",
    "        numerator = int(input(\"Enter the numerator: \"))\n",
    "        denominator = int(input(\"Enter the denominator: \"))\n",
    "        \n",
    "        result = numerator / denominator\n",
    "    except ZeroDivisionError:\n",
    "        print(\"Error: Division by zero is not allowed.\")\n",
    "    except ValueError:\n",
    "        print(\"Error: Please enter valid integer values.\")\n",
    "    else:\n",
    "        print(f\"The result of division: {result}\")\n",
    "\n",
    "# Example usage:\n",
    "divide_numbers()\n"
   ]
  },
  {
   "cell_type": "markdown",
   "id": "f70bccdd",
   "metadata": {},
   "source": [
    "In this example:\n",
    "\n",
    "* The try block attempts to perform a division operation.\n",
    "* The except blocks handle potential errors (division by zero or invalid input).\n",
    "* The else block contains code that should run only if no exceptions occurred. In this case, it prints the result of the division.\n",
    "Using the else block in this way can enhance the readability of the code by separating the main logic from the exception-handling logic. It also allows you to provide a specific response when no exceptions occur."
   ]
  },
  {
   "cell_type": "code",
   "execution_count": null,
   "id": "3f21580b",
   "metadata": {},
   "outputs": [],
   "source": [
    "2. Can a try-except block be nested inside another try-except block? Explain with an\n",
    "   example."
   ]
  },
  {
   "cell_type": "markdown",
   "id": "3e094fe9",
   "metadata": {},
   "source": [
    "Yes, a try-except block can be nested inside another try-except block. This allows for more granular exception handling, where you can handle specific exceptions at different levels of nesting. Each try block can have its own set of except blocks to handle the relevant exceptions."
   ]
  },
  {
   "cell_type": "code",
   "execution_count": 4,
   "id": "1ef6cfdd",
   "metadata": {},
   "outputs": [
    {
     "name": "stdout",
     "output_type": "stream",
     "text": [
      "Enter the numerator: 90\n",
      "Enter the denominator: 3\n",
      "The result of division: 30.0\n"
     ]
    }
   ],
   "source": [
    "# Here's an example of nested try-except blocks:\n",
    "\n",
    "try:\n",
    "    # Outer try block\n",
    "    numerator = int(input(\"Enter the numerator: \"))\n",
    "    denominator = int(input(\"Enter the denominator: \"))\n",
    "\n",
    "    try:\n",
    "        # Inner try block\n",
    "        result = numerator / denominator\n",
    "        print(f\"The result of division: {result}\")\n",
    "\n",
    "    except ZeroDivisionError:\n",
    "        # Handle division by zero exception inside the inner try-except block\n",
    "        print(\"Error: Division by zero is not allowed in the inner block.\")\n",
    "\n",
    "except ValueError:\n",
    "    # Handle ValueError (e.g., if the user enters a non-integer) in the outer try-except block\n",
    "    print(\"Error: Please enter valid integer values.\")\n",
    "\n",
    "except Exception as e:\n",
    "    # Handle other exceptions in the outer try-except block\n",
    "    print(f\"An error occurred: {e}\")\n"
   ]
  },
  {
   "cell_type": "markdown",
   "id": "8e41083c",
   "metadata": {},
   "source": [
    "In this example:\n",
    "\n",
    "* The outer try-except block handles a ValueError that might occur if the user enters a non-integer value for the numerator or denominator.\n",
    "\n",
    "* Inside the outer try block, there is an inner try-except block that handles a ZeroDivisionError if the user enters a denominator of zero.\n",
    "\n",
    "* The use of nested try-except blocks allows for more specific and localized handling of different types of exceptions at different levels in the code.\n",
    "\n",
    "Nested try-except blocks can be useful when you want to handle exceptions at different levels of granularity and provide specific responses based on where the exception occurred."
   ]
  },
  {
   "cell_type": "code",
   "execution_count": null,
   "id": "1590fa91",
   "metadata": {},
   "outputs": [],
   "source": [
    "3. How can you create a custom exception class in Python? Provide an example that\n",
    "   demonstrates its usage."
   ]
  },
  {
   "cell_type": "markdown",
   "id": "2f214e40",
   "metadata": {},
   "source": [
    "To create a custom exception class in Python, you can define a new class that inherits from the built-in Exception class or one of its subclasses. You can add additional attributes or methods to customize the behavior of your custom exception."
   ]
  },
  {
   "cell_type": "code",
   "execution_count": 5,
   "id": "afc3a014",
   "metadata": {},
   "outputs": [
    {
     "name": "stdout",
     "output_type": "stream",
     "text": [
      "CustomError caught: Negative values are not allowed.\n"
     ]
    }
   ],
   "source": [
    "# Example\n",
    "\n",
    "class CustomError(Exception):\n",
    "    \"\"\"Custom exception class.\"\"\"\n",
    "    def __init__(self, message=\"A custom error occurred.\"):\n",
    "        self.message = message\n",
    "        super().__init__(self.message)\n",
    "\n",
    "# Example of using the custom exception\n",
    "def example_function(value):\n",
    "    try:\n",
    "        if value < 0:\n",
    "            raise CustomError(\"Negative values are not allowed.\")\n",
    "        # Your code here\n",
    "    except CustomError as ce:\n",
    "        print(f\"CustomError caught: {ce}\")\n",
    "\n",
    "# Example usage\n",
    "try:\n",
    "    example_function(-5)\n",
    "except CustomError as ce:\n",
    "    print(f\"CustomError caught outside the function: {ce}\")\n"
   ]
  },
  {
   "cell_type": "markdown",
   "id": "063792a0",
   "metadata": {},
   "source": [
    "In this example:\n",
    "\n",
    "* CustomError is a custom exception class that inherits from the built-in Exception class.\n",
    "\n",
    "* The __init__ method is used to initialize the exception with an optional custom error message. It also calls the __init__ method of the base class (super().__init__(self.message)) to ensure proper initialization.\n",
    "\n",
    "* The example_function function demonstrates how to raise and catch the custom exception. If the input value is negative, it raises a CustomError with a specific message.\n",
    "\n",
    "* The example usage outside the function shows how to catch the custom exception when calling the function.\n",
    "\n",
    "Creating custom exception classes allows you to provide more meaningful and specific information about errors that may occur in your code, making it easier to understand and handle different exceptional situations."
   ]
  },
  {
   "cell_type": "code",
   "execution_count": null,
   "id": "228b45b7",
   "metadata": {},
   "outputs": [],
   "source": [
    "4. What are some common exceptions that are built-in to Python?"
   ]
  },
  {
   "cell_type": "markdown",
   "id": "f7cbea28",
   "metadata": {},
   "source": [
    "Python has several built-in exceptions that are commonly encountered while writing code. Here are some of the common exceptions:\n",
    "\n",
    "1. SyntaxError : Raised when there is a syntax error in the Python code.\n",
    "\n",
    "2. IndentationError : Subclass of SyntaxError , raised when there is incorrect indentation.\n",
    "\n",
    "3. TypeError : Raised when an operation or function is applied to an object of an inappropriate type.\n",
    "\n",
    "4. ValueError : Raised when a function receives an argument of the correct type but an inappropriate value.\n",
    "\n",
    "5. NameError : Raised when a local or global name is not found.\n",
    "\n",
    "6. ZeroDivisionError : Raised when division or modulo operation is performed with zero as the denominator.\n",
    "\n",
    "7. IndexError : Raised when a sequence subscript is out of range.\n",
    "\n",
    "8. FileNotFoundError : Raised when attempting to open a file that does not exist.\n",
    "\n",
    "9. KeyError : Raised when a dictionary key is not found.\n",
    "\n",
    "10. AttributeError : Raised when an attribute reference or assignment fails.\n",
    "\n",
    "11. ImportError : Raised when an import statement fails to find the module or name.\n",
    "\n",
    "12. RuntimeError : Raised when an error is detected that doesn't fall into any of the categories above.\n",
    "\n",
    "These are just a few examples, and Python has a variety of other built-in exceptions that cover different types of errors. Understanding these exceptions and their meanings can help you write more robust and error-tolerant code."
   ]
  },
  {
   "cell_type": "code",
   "execution_count": null,
   "id": "2adefb90",
   "metadata": {},
   "outputs": [],
   "source": [
    "5. What is logging in Python, and why is it important in software development?"
   ]
  },
  {
   "cell_type": "markdown",
   "id": "d1d7924a",
   "metadata": {},
   "source": [
    "Logging in Python refers to the process of recording messages, warnings, and errors generated during the execution of a program. The built-in logging module in Python provides a flexible and configurable logging framework for developers. It allows you to output log messages to different destinations (e.g., console, files, external services) and at different levels of severity (e.g., DEBUG, INFO, WARNING, ERROR, CRITICAL).\n",
    "\n",
    "Key components of the logging module include:\n",
    "\n",
    "* Loggers: Objects that allow you to emit log messages. Each logger has a name, and they form a hierarchical namespace.\n",
    "\n",
    "* Handlers: Define where the log messages go, such as to the console or a file.\n",
    "\n",
    "* Formatters: Specify the layout of log records, determining how log messages are formatted for output.\n",
    "\n",
    "* Levels: Log messages are classified into severity levels, including DEBUG, INFO, WARNING, ERROR, and CRITICAL."
   ]
  },
  {
   "cell_type": "code",
   "execution_count": 6,
   "id": "30fb5957",
   "metadata": {},
   "outputs": [
    {
     "name": "stderr",
     "output_type": "stream",
     "text": [
      "2023-11-28 00:35:02,214 - ERROR - An error occurred: division by zero\n",
      "Traceback (most recent call last):\n",
      "  File \"C:\\Users\\yashp\\AppData\\Local\\Temp\\ipykernel_7516\\1346413934.py\", line 13, in example_function\n",
      "    result = 10 / 0\n",
      "ZeroDivisionError: division by zero\n"
     ]
    }
   ],
   "source": [
    "# Here's a basic example of using the logging module:\n",
    "\n",
    "import logging\n",
    "\n",
    "# Configure the logging\n",
    "logging.basicConfig(level=logging.DEBUG, format='%(asctime)s - %(levelname)s - %(message)s')\n",
    "\n",
    "# Create a logger\n",
    "logger = logging.getLogger(__name__)\n",
    "\n",
    "def example_function():\n",
    "    try:\n",
    "        result = 10 / 0\n",
    "    except Exception as e:\n",
    "        # Log an error message\n",
    "        logger.error(f\"An error occurred: {e}\", exc_info=True)\n",
    "\n",
    "# Call the function\n",
    "example_function()\n"
   ]
  },
  {
   "cell_type": "markdown",
   "id": "3d0f9971",
   "metadata": {},
   "source": [
    "In this example:\n",
    "\n",
    "basicConfig is used to configure the logging system to display messages with a severity level of DEBUG or higher.\n",
    "\n",
    "getLogger creates a logger with the specified name.\n",
    "\n",
    "logger.error is used to log an error message when an exception occurs in the example_function. The exc_info=True argument includes exception information in the log.\n",
    "\n",
    "Why logging is important in software development:\n",
    "\n",
    "1. Debugging and Troubleshooting:\n",
    "\n",
    "* Logging provides a way to record information about the execution flow, variable values, and errors. This information is crucial for debugging and troubleshooting issues in the code.\n",
    "\n",
    "2. Monitoring and Diagnostics:\n",
    "\n",
    "* In production environments, logging helps monitor the health and performance of a system. Log messages can be analyzed to identify patterns, diagnose problems, and improve overall system reliability.\n",
    "\n",
    "3. Auditing and Compliance:\n",
    "\n",
    "* Logging can be used to record important events for auditing purposes, helping to ensure compliance with security and regulatory requirements.\n",
    "\n",
    "4. Documentation:\n",
    "\n",
    "* Logs serve as a form of documentation for the behavior of a system. They provide insights into the program's execution, making it easier for developers to understand and maintain the code.\n",
    "\n",
    "5. Alerting:\n",
    "\n",
    "* Log messages can trigger alerts when specific conditions or errors occur, allowing developers or system administrators to respond quickly to critical issues.\n",
    "\n",
    "By incorporating effective logging practices into software development, developers can build more robust and maintainable systems while improving their ability to identify and address issues."
   ]
  },
  {
   "cell_type": "code",
   "execution_count": null,
   "id": "100215d6",
   "metadata": {},
   "outputs": [],
   "source": [
    "6. Explain the purpose of log levels in Python logging and provide examples of when\n",
    "   each log level would be appropriate."
   ]
  },
  {
   "cell_type": "markdown",
   "id": "6a54d436",
   "metadata": {},
   "source": [
    "Log levels in Python logging represent the severity or importance of a log message. The logging module defines several standard log levels, each serving a specific purpose. These levels help in categorizing and filtering log messages based on their significance. Here are the standard log levels in increasing order of severity:"
   ]
  },
  {
   "cell_type": "markdown",
   "id": "fed2878d",
   "metadata": {},
   "source": [
    "1. DEBUG:\n",
    "\n",
    "* Purpose: Detailed information, typically used for debugging.\n",
    "* Example Usage: Printing variable values, function calls, or any information useful for debugging."
   ]
  },
  {
   "cell_type": "code",
   "execution_count": 7,
   "id": "df258e3e",
   "metadata": {},
   "outputs": [
    {
     "name": "stderr",
     "output_type": "stream",
     "text": [
      "2023-11-28 00:38:51,395 - DEBUG - Entering example_function\n",
      "2023-11-28 00:38:51,396 - DEBUG - Exiting example_function\n"
     ]
    }
   ],
   "source": [
    "import logging\n",
    "\n",
    "logging.basicConfig(level=logging.DEBUG)\n",
    "logger = logging.getLogger(__name__)\n",
    "\n",
    "def example_function():\n",
    "    logger.debug(\"Entering example_function\")\n",
    "    # ... (debugging information)\n",
    "    logger.debug(\"Exiting example_function\")\n",
    "\n",
    "example_function()\n"
   ]
  },
  {
   "cell_type": "markdown",
   "id": "75bfe998",
   "metadata": {},
   "source": [
    "2. INFO:\n",
    "\n",
    "* Purpose: General information about the program's execution.\n",
    "* Example Usage: Displaying high-level information like startup messages, configuration details, or significant events."
   ]
  },
  {
   "cell_type": "code",
   "execution_count": 8,
   "id": "5b3d137b",
   "metadata": {},
   "outputs": [
    {
     "name": "stderr",
     "output_type": "stream",
     "text": [
      "2023-11-28 00:40:05,555 - INFO - Application started successfully.\n",
      "2023-11-28 00:40:05,556 - INFO - Initialization complete.\n"
     ]
    }
   ],
   "source": [
    "import logging\n",
    "\n",
    "logging.basicConfig(level=logging.INFO)\n",
    "logger = logging.getLogger(__name__)\n",
    "\n",
    "def startup():\n",
    "    logger.info(\"Application started successfully.\")\n",
    "    # ... (additional info)\n",
    "    logger.info(\"Initialization complete.\")\n",
    "\n",
    "startup()\n"
   ]
  },
  {
   "cell_type": "markdown",
   "id": "d5ba2dec",
   "metadata": {},
   "source": [
    "3. WARNING:\n",
    "\n",
    "* Purpose: Indicates a potential issue that does not prevent the program from running.\n",
    "* Example Usage: Warning about deprecated features, potential performance issues, or recoverable errors."
   ]
  },
  {
   "cell_type": "code",
   "execution_count": 9,
   "id": "b69ddd2e",
   "metadata": {},
   "outputs": [
    {
     "name": "stderr",
     "output_type": "stream",
     "text": [
      "2023-11-28 00:40:36,922 - WARNING - This function is deprecated and will be removed in the next version.\n"
     ]
    }
   ],
   "source": [
    "import logging\n",
    "\n",
    "logging.basicConfig(level=logging.WARNING)\n",
    "logger = logging.getLogger(__name__)\n",
    "\n",
    "def deprecated_function():\n",
    "    logger.warning(\"This function is deprecated and will be removed in the next version.\")\n",
    "\n",
    "deprecated_function()\n"
   ]
  },
  {
   "cell_type": "markdown",
   "id": "95269088",
   "metadata": {},
   "source": [
    "4. ERROR:\n",
    "\n",
    "* Purpose: Indicates a more serious issue that may prevent the program from continuing.\n",
    "* Example Usage: Logging unexpected errors, exceptions, or critical failures."
   ]
  },
  {
   "cell_type": "code",
   "execution_count": 11,
   "id": "a4e4310e",
   "metadata": {},
   "outputs": [
    {
     "ename": "IndentationError",
     "evalue": "expected an indented block after 'try' statement on line 7 (3307011121.py, line 9)",
     "output_type": "error",
     "traceback": [
      "\u001b[1;36m  Cell \u001b[1;32mIn[11], line 9\u001b[1;36m\u001b[0m\n\u001b[1;33m    except Exception as e:\u001b[0m\n\u001b[1;37m    ^\u001b[0m\n\u001b[1;31mIndentationError\u001b[0m\u001b[1;31m:\u001b[0m expected an indented block after 'try' statement on line 7\n"
     ]
    }
   ],
   "source": [
    "import logging\n",
    "\n",
    "logging.basicConfig(level=logging.ERROR)\n",
    "logger = logging.getLogger(__name__)\n",
    "\n",
    "def critical_operation():\n",
    "    try:\n",
    "        # ... (critical operation)\n",
    "    except Exception as e:\n",
    "        logger.error(f\"Critical operation failed: {e}\", exc_info=True)\n",
    "\n",
    "critical_operation()"
   ]
  },
  {
   "cell_type": "markdown",
   "id": "cdaec744",
   "metadata": {},
   "source": [
    "5. CRITICAL:\n",
    "\n",
    "* Purpose: Indicates a critical error that will likely result in a program crash.\n",
    "* Example Usage: Logging severe errors that require immediate attention."
   ]
  },
  {
   "cell_type": "code",
   "execution_count": 12,
   "id": "cb29b069",
   "metadata": {},
   "outputs": [
    {
     "name": "stderr",
     "output_type": "stream",
     "text": [
      "2023-11-28 00:43:09,346 - CRITICAL - Critical failure! Terminating program.\n"
     ]
    },
    {
     "ename": "SystemExit",
     "evalue": "Program terminated due to critical failure.",
     "output_type": "error",
     "traceback": [
      "An exception has occurred, use %tb to see the full traceback.\n",
      "\u001b[1;31mSystemExit\u001b[0m\u001b[1;31m:\u001b[0m Program terminated due to critical failure.\n"
     ]
    },
    {
     "name": "stderr",
     "output_type": "stream",
     "text": [
      "C:\\Users\\yashp\\anaconda3\\lib\\site-packages\\IPython\\core\\interactiveshell.py:3468: UserWarning: To exit: use 'exit', 'quit', or Ctrl-D.\n",
      "  warn(\"To exit: use 'exit', 'quit', or Ctrl-D.\", stacklevel=1)\n"
     ]
    }
   ],
   "source": [
    "import logging\n",
    "\n",
    "logging.basicConfig(level=logging.CRITICAL)\n",
    "logger = logging.getLogger(__name__)\n",
    "\n",
    "def critical_failure():\n",
    "    logger.critical(\"Critical failure! Terminating program.\")\n",
    "    # ... (additional critical actions)\n",
    "    raise SystemExit(\"Program terminated due to critical failure.\")\n",
    "\n",
    "critical_failure()\n"
   ]
  },
  {
   "cell_type": "markdown",
   "id": "3d32e1f9",
   "metadata": {},
   "source": [
    "Using appropriate log levels helps developers and system administrators filter and prioritize log messages based on their importance. This enhances the readability of logs and facilitates efficient debugging and monitoring."
   ]
  },
  {
   "cell_type": "code",
   "execution_count": null,
   "id": "dac29ed7",
   "metadata": {},
   "outputs": [],
   "source": [
    "7. What are log formatters in Python logging, and how can you customise the log\n",
    "   message format using formatters?"
   ]
  },
  {
   "cell_type": "markdown",
   "id": "4e47d626",
   "metadata": {},
   "source": [
    "Log formatters in Python logging define the layout and structure of log messages. They allow developers to customize the way log records are presented, including the inclusion of timestamps, log levels, module names, and other relevant information. The Formatter class in the logging module is used to create log formatters.\n",
    "\n",
    "The common elements that can be included in log message formats are represented by formatter attributes, such as:\n",
    "\n",
    "* %(asctime)s: The human-readable timestamp when the log record was created.\n",
    "* %(levelname)s: The log level (e.g., DEBUG, INFO, WARNING, ERROR, CRITICAL).\n",
    "* %(message)s: The actual log message.\n",
    "* %(name)s: The logger name.\n",
    "* %(module)s: The name of the module where the log call originated.\n",
    "* %(lineno)d: The line number where the log call originated."
   ]
  },
  {
   "cell_type": "code",
   "execution_count": 13,
   "id": "bda7a7ee",
   "metadata": {},
   "outputs": [
    {
     "name": "stderr",
     "output_type": "stream",
     "text": [
      "2023-11-28 00:45:41,819 - DEBUG - This is a debug message.\n",
      "2023-11-28 00:45:41,819 - DEBUG - This is a debug message.\n",
      "2023-11-28 00:45:41,821 - INFO - This is an info message.\n",
      "2023-11-28 00:45:41,821 - INFO - This is an info message.\n",
      "2023-11-28 00:45:41,824 - WARNING - This is a warning message.\n",
      "2023-11-28 00:45:41,824 - WARNING - This is a warning message.\n",
      "2023-11-28 00:45:41,825 - ERROR - This is an error message.\n",
      "2023-11-28 00:45:41,825 - ERROR - This is an error message.\n",
      "2023-11-28 00:45:41,827 - CRITICAL - This is a critical message.\n",
      "2023-11-28 00:45:41,827 - CRITICAL - This is a critical message.\n"
     ]
    }
   ],
   "source": [
    "# Here's an example of how to customize the log message format using formatters:\n",
    "\n",
    "import logging\n",
    "\n",
    "# Create a formatter with a custom format\n",
    "formatter = logging.Formatter('%(asctime)s - %(levelname)s - %(message)s')\n",
    "\n",
    "# Create a handler (e.g., StreamHandler) and set the formatter\n",
    "handler = logging.StreamHandler()\n",
    "handler.setFormatter(formatter)\n",
    "\n",
    "# Create a logger, add the handler, and set the log level\n",
    "logger = logging.getLogger(__name__)\n",
    "logger.addHandler(handler)\n",
    "logger.setLevel(logging.DEBUG)\n",
    "\n",
    "# Log messages using the configured logger\n",
    "logger.debug(\"This is a debug message.\")\n",
    "logger.info(\"This is an info message.\")\n",
    "logger.warning(\"This is a warning message.\")\n",
    "logger.error(\"This is an error message.\")\n",
    "logger.critical(\"This is a critical message.\")\n"
   ]
  },
  {
   "cell_type": "markdown",
   "id": "8712cdc5",
   "metadata": {},
   "source": [
    "In this example:\n",
    "\n",
    "* A Formatter is created with a custom format string.\n",
    "* A StreamHandler is created and set to use the custom formatter.\n",
    "* The handler is added to the logger, and the logger's log level is set to DEBUG.\n",
    "* Log messages are then generated using the configured logger."
   ]
  },
  {
   "cell_type": "markdown",
   "id": "97a15765",
   "metadata": {},
   "source": [
    "* As a result, log messages will be formatted according to the specified format string.\n",
    "\n",
    "* Additionally, you can use the basicConfig method to configure the root logger with a formatter and handlers globally:"
   ]
  },
  {
   "cell_type": "code",
   "execution_count": 14,
   "id": "592411f2",
   "metadata": {},
   "outputs": [
    {
     "name": "stderr",
     "output_type": "stream",
     "text": [
      "2023-11-28 00:46:52,074 - DEBUG - This is a debug message.\n",
      "2023-11-28 00:46:52,076 - INFO - This is an info message.\n",
      "2023-11-28 00:46:52,076 - WARNING - This is a warning message.\n",
      "2023-11-28 00:46:52,077 - ERROR - This is an error message.\n",
      "2023-11-28 00:46:52,078 - CRITICAL - This is a critical message.\n"
     ]
    }
   ],
   "source": [
    "import logging\n",
    "\n",
    "# Configure the root logger with a custom format and a StreamHandler\n",
    "logging.basicConfig(format='%(asctime)s - %(levelname)s - %(message)s', level=logging.DEBUG)\n",
    "\n",
    "# Log messages using the root logger\n",
    "logging.debug(\"This is a debug message.\")\n",
    "logging.info(\"This is an info message.\")\n",
    "logging.warning(\"This is a warning message.\")\n",
    "logging.error(\"This is an error message.\")\n",
    "logging.critical(\"This is a critical message.\")\n"
   ]
  },
  {
   "cell_type": "markdown",
   "id": "4d8b3caa",
   "metadata": {},
   "source": [
    "This approach sets the default formatter and handlers for the root logger, affecting all loggers unless overridden at a lower level."
   ]
  },
  {
   "cell_type": "code",
   "execution_count": null,
   "id": "9cb8d198",
   "metadata": {},
   "outputs": [],
   "source": [
    "8. How can you set up logging to capture log messages from multiple modules or\n",
    "   classes in a Python application?"
   ]
  },
  {
   "cell_type": "markdown",
   "id": "308cb70e",
   "metadata": {},
   "source": [
    "Setting up logging to capture messages from multiple modules or classes in a Python application involves configuring loggers and handlers to collect and output log records. Here's a step-by-step guide:\n",
    "\n",
    "1. Import the logging module:"
   ]
  },
  {
   "cell_type": "code",
   "execution_count": 2,
   "id": "72435c71",
   "metadata": {},
   "outputs": [],
   "source": [
    "import logging"
   ]
  },
  {
   "cell_type": "markdown",
   "id": "ac5386b7",
   "metadata": {},
   "source": [
    "2. Configure a root logger:\n",
    "\n",
    "The root logger is the top-level logger in the logging hierarchy. It handles messages from all modules unless they have their own loggers."
   ]
  },
  {
   "cell_type": "code",
   "execution_count": 3,
   "id": "3ced0c90",
   "metadata": {},
   "outputs": [],
   "source": [
    "logging.basicConfig(level=logging.INFO)"
   ]
  },
  {
   "cell_type": "markdown",
   "id": "274ac9e1",
   "metadata": {},
   "source": [
    "This sets the root logger's level to INFO, meaning it will only log messages with levels INFO, WARNING, ERROR, and CRITICAL."
   ]
  },
  {
   "cell_type": "markdown",
   "id": "4d87a7b7",
   "metadata": {},
   "source": [
    "3. Create module-specific loggers:\n",
    "\n",
    "Each module can have its own logger, allowing you to control the logging level and output format for each module independently."
   ]
  },
  {
   "cell_type": "code",
   "execution_count": 8,
   "id": "7bfbc14b",
   "metadata": {},
   "outputs": [],
   "source": [
    "# In module1.py\n",
    "logger = logging.getLogger('module1')\n",
    "logger.setLevel(logging.DEBUG)\n",
    "\n",
    "# In module2.py\n",
    "logger = logging.getLogger('module2')\n",
    "logger.setLevel(logging.INFO)\n"
   ]
  },
  {
   "cell_type": "markdown",
   "id": "31a366e7",
   "metadata": {},
   "source": [
    "4. Log messages using loggers:\n",
    "\n",
    "Use the logger object's methods to log messages. The methods correspond to logging levels:"
   ]
  },
  {
   "cell_type": "code",
   "execution_count": 5,
   "id": "eda8cd17",
   "metadata": {},
   "outputs": [
    {
     "name": "stderr",
     "output_type": "stream",
     "text": [
      "INFO:module2:This is an info message\n",
      "WARNING:module2:This is a warning message\n",
      "ERROR:module2:This is an error message\n",
      "CRITICAL:module2:This is a critical message\n"
     ]
    }
   ],
   "source": [
    "logger.debug('This is a debug message')\n",
    "logger.info('This is an info message')\n",
    "logger.warning('This is a warning message')\n",
    "logger.error('This is an error message')\n",
    "logger.critical('This is a critical message')"
   ]
  },
  {
   "cell_type": "markdown",
   "id": "c982d8e4",
   "metadata": {},
   "source": [
    "5. Configure handlers:\n",
    "    \n",
    "    Handlers determine where the log messages are sent. Common handlers include:\n",
    "\n",
    "    * StreamHandler: Outputs messages to the console\n",
    "    * FileHandler: Outputs messages to a file"
   ]
  },
  {
   "cell_type": "code",
   "execution_count": 9,
   "id": "54345972",
   "metadata": {},
   "outputs": [],
   "source": [
    "# Create a StreamHandler for the root logger\n",
    "console_handler = logging.StreamHandler()\n",
    "console_handler.setLevel(logging.DEBUG)\n",
    "formatter = logging.Formatter('%(name)s - %(levelname)s: %(message)s')\n",
    "console_handler.setFormatter(formatter)\n",
    "logging.getLogger().addHandler(console_handler)\n",
    "\n",
    "# Create a FileHandler for module1's logger\n",
    "file_handler = logging.FileHandler('module1.log')\n",
    "file_handler.setLevel(logging.DEBUG)\n",
    "formatter = logging.Formatter('%(name)s - %(levelname)s: %(message)s')\n",
    "file_handler.setFormatter(formatter)\n",
    "logging.getLogger('module1').addHandler(file_handler)\n"
   ]
  },
  {
   "cell_type": "code",
   "execution_count": null,
   "id": "fcfc3f2b",
   "metadata": {},
   "outputs": [],
   "source": [
    "9. What is the difference between the logging and print statements in Python? When\n",
    "   should you use logging over print statements in a real-world application?"
   ]
  },
  {
   "cell_type": "markdown",
   "id": "24f7e9db",
   "metadata": {},
   "source": [
    "The logging module and the print statement serve different purposes in Python, and the choice between them depends on the context and requirements of your application.\n",
    "\n",
    "Differences between logging and print statements:\n",
    "\n",
    "1. Output Destination:\n",
    "\n",
    "* print: Outputs messages to the console by default. It's primarily for debugging purposes and doesn't provide structured logging capabilities.\n",
    "* logging: Allows flexible output destinations, including the console, files, remote servers, etc. It supports different log levels and provides more control over where log messages are stored.\n",
    "\n",
    "2. Log Levels:\n",
    "\n",
    "* print: Doesn't have built-in log levels. All messages are treated equally.\n",
    "* logging: Provides log levels (DEBUG, INFO, WARNING, ERROR, CRITICAL) to categorize messages based on their severity. This allows for selective filtering and handling of different types of messages.\n",
    "\n",
    "3. Formatting:\n",
    "\n",
    "* print: Limited formatting options. Generally, it prints the values of objects or expressions.\n",
    "* logging: Supports advanced formatting through formatters, allowing customization of the log message format, including timestamps, log levels, and more.\n",
    "\n",
    "4. Structured Logging:\n",
    "\n",
    "* print: Outputs unstructured text. It can be challenging to parse and analyze programmatically.\n",
    "* logging: Facilitates structured logging, making it easier to extract information from log messages in a consistent manner. This is particularly useful for log analysis and monitoring.\n",
    "\n",
    "5. Error Handling:\n",
    "\n",
    "* print: Doesn't provide built-in error handling for logging failures.\n",
    "* logging: Can be configured to handle errors gracefully, ensuring that critical log messages are not lost even if there's an issue with the logging system.\n",
    "\n",
    "\n",
    "When to use logging over print in a real-world application:\n",
    "\n",
    "* Production Environments:\n",
    "\n",
    "    * Use logging in production environments for systematic logging, monitoring, and debugging. It provides a more robust and configurable logging infrastructure.\n",
    "\n",
    "* Debugging:\n",
    "\n",
    "    * Use print statements during development and debugging for quick and simple output to the console. However, consider replacing them with logging when the application becomes more complex.\n",
    "\n",
    "* Selective Output:\n",
    "\n",
    "    * logging allows you to control the verbosity of log messages through log levels. This is valuable when you want to output more detailed information during debugging but reduce verbosity in production.\n",
    "\n",
    "* Analysis and Monitoring:\n",
    "\n",
    "    * logging supports structured logging, making it easier to extract information for analysis and monitoring tools. This can be crucial in large-scale applications.\n",
    "\n",
    "* Error Handling:\n",
    "\n",
    "    * logging provides better error handling capabilities, ensuring that critical log messages are not lost in case of failures in the logging system.\n",
    "\n",
    "In summary, while print statements are quick and convenient during development, logging is the preferred choice for production-grade applications, offering more control, flexibility, and structured logging capabilities."
   ]
  },
  {
   "cell_type": "code",
   "execution_count": null,
   "id": "b4781bd4",
   "metadata": {},
   "outputs": [],
   "source": [
    "10. Write a Python program that logs a message to a file named \"app.log\" with the\n",
    "    following requirements:\n",
    "    ● The log message should be \"Hello, World!\"\n",
    "    ● The log level should be set to \"INFO.\"\n",
    "    ● The log file should append new log entries without overwriting previous ones."
   ]
  },
  {
   "cell_type": "markdown",
   "id": "90564dd0",
   "metadata": {},
   "source": [
    "Certainly! Below is a simple Python program that uses the logging module to log an \"INFO\" level message to a file named \"app.log,\" appending new log entries without overwriting previous ones:"
   ]
  },
  {
   "cell_type": "code",
   "execution_count": 4,
   "id": "40dd5a47",
   "metadata": {},
   "outputs": [],
   "source": [
    "import logging\n",
    "\n",
    "def configure_logging():\n",
    "    # Create a formatter with a custom format\n",
    "    formatter = logging.Formatter('%(asctime)s - %(levelname)s - %(message)s')\n",
    "\n",
    "    # Create a FileHandler with the formatter, set to append mode\n",
    "    file_handler = logging.FileHandler('app.log', mode='a')\n",
    "    file_handler.setFormatter(formatter)\n",
    "\n",
    "    # Create a logger, add the FileHandler, and set the log level to INFO\n",
    "    logger = logging.getLogger(__name__)\n",
    "    logger.addHandler(file_handler)\n",
    "    logger.setLevel(logging.INFO)\n",
    "\n",
    "    return logger\n",
    "\n",
    "def main():\n",
    "    # Configure logging\n",
    "    logger = configure_logging()\n",
    "\n",
    "    # Log the \"Hello, World!\" message with INFO level\n",
    "    logger.info(\"Hello, World!\")\n",
    "\n",
    "if __name__ == \"__main__\":\n",
    "    main()"
   ]
  },
  {
   "cell_type": "markdown",
   "id": "b133a708",
   "metadata": {},
   "source": [
    "This program defines a configure_logging function to set up the logging configuration. It creates a custom formatter, a FileHandler with append mode, and attaches the handler to the logger. The logger is then configured to output messages with an \"INFO\" level or higher.\n",
    "\n",
    "In the main function, it calls configure_logging to set up the logging configuration and logs the \"Hello, World!\" message using the info method. The log entries will be appended to the \"app.log\" file without overwriting existing content."
   ]
  },
  {
   "cell_type": "code",
   "execution_count": null,
   "id": "ed6636a6",
   "metadata": {},
   "outputs": [],
   "source": [
    "11. Create a Python program that logs an error message to the console and a file named\n",
    "    \"errors.log\" if an exception occurs during the program's execution. The error\n",
    "    message should include the exception type and a timestamp."
   ]
  },
  {
   "cell_type": "markdown",
   "id": "f5b83472",
   "metadata": {},
   "source": [
    "Here's a Python program that logs an error message to both the console and a file named \"errors.log\" if an exception occurs during its execution. The error message includes the exception type and a timestamp:"
   ]
  },
  {
   "cell_type": "code",
   "execution_count": 5,
   "id": "2c09a0ba",
   "metadata": {},
   "outputs": [
    {
     "name": "stderr",
     "output_type": "stream",
     "text": [
      "2023-11-28 01:42:53,955 - ERROR - Exception Type: ValueError, Timestamp: 2023-11-28 01:42:53.955483\n",
      "Exception Details:\n",
      "Traceback (most recent call last):\n",
      "  File \"C:\\Users\\yashp\\AppData\\Local\\Temp\\ipykernel_13932\\969041359.py\", line 31, in main\n",
      "    raise ValueError(\"This is a sample error.\")\n",
      "ValueError: This is a sample error.\n",
      "\n"
     ]
    }
   ],
   "source": [
    "import logging\n",
    "import traceback\n",
    "from datetime import datetime\n",
    "\n",
    "def configure_logging():\n",
    "    # Create a formatter with a custom format\n",
    "    formatter = logging.Formatter('%(asctime)s - %(levelname)s - %(message)s')\n",
    "\n",
    "    # Create a StreamHandler with the formatter (console output)\n",
    "    console_handler = logging.StreamHandler()\n",
    "    console_handler.setFormatter(formatter)\n",
    "\n",
    "    # Create a FileHandler with the formatter (file output)\n",
    "    file_handler = logging.FileHandler('errors.log', mode='a')\n",
    "    file_handler.setFormatter(formatter)\n",
    "\n",
    "    # Create a logger, add both handlers, and set the log level to ERROR\n",
    "    logger = logging.getLogger(__name__)\n",
    "    logger.addHandler(console_handler)\n",
    "    logger.addHandler(file_handler)\n",
    "    logger.setLevel(logging.ERROR)\n",
    "\n",
    "    return logger\n",
    "\n",
    "def main():\n",
    "    # Configure logging\n",
    "    logger = configure_logging()\n",
    "\n",
    "    try:\n",
    "        # Simulate an exception (replace with your actual code)\n",
    "        raise ValueError(\"This is a sample error.\")\n",
    "    except Exception as e:\n",
    "        # Log the exception details\n",
    "        error_message = f\"Exception Type: {type(e).__name__}, Timestamp: {datetime.now()}\\n\"\n",
    "        error_message += f\"Exception Details:\\n{traceback.format_exc()}\"\n",
    "        logger.error(error_message)\n",
    "\n",
    "if __name__ == \"__main__\":\n",
    "    main()\n"
   ]
  },
  {
   "cell_type": "markdown",
   "id": "bc059321",
   "metadata": {},
   "source": [
    "In this program:\n",
    "\n",
    "The configure_logging function sets up logging with a custom formatter.\n",
    "It creates a StreamHandler for console output and a FileHandler for file output.\n",
    "The main function contains a try-except block where you can place the code that might raise an exception.\n",
    "If an exception occurs, it is caught, and the details are logged using the error method of the logger.\n",
    "The error message includes the exception type, a timestamp, and the full traceback.\n",
    "Replace the exception-raising part with your actual code that might encounter errors during execution. The error details will be logged to both the console and the \"errors.log\" file."
   ]
  },
  {
   "cell_type": "code",
   "execution_count": null,
   "id": "5384927a",
   "metadata": {},
   "outputs": [],
   "source": []
  }
 ],
 "metadata": {
  "kernelspec": {
   "display_name": "Python 3 (ipykernel)",
   "language": "python",
   "name": "python3"
  },
  "language_info": {
   "codemirror_mode": {
    "name": "ipython",
    "version": 3
   },
   "file_extension": ".py",
   "mimetype": "text/x-python",
   "name": "python",
   "nbconvert_exporter": "python",
   "pygments_lexer": "ipython3",
   "version": "3.10.9"
  }
 },
 "nbformat": 4,
 "nbformat_minor": 5
}
