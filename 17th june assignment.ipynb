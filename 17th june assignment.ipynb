{
 "cells": [
  {
   "cell_type": "code",
   "execution_count": null,
   "id": "97bf5cd5",
   "metadata": {},
   "outputs": [],
   "source": [
    "1. What is the role of try and exception block?"
   ]
  },
  {
   "cell_type": "markdown",
   "id": "5f3f41b0",
   "metadata": {},
   "source": [
    "The try and except blocks in Python are used for exception handling, a mechanism to gracefully handle and manage errors or exceptional situations that may occur during the execution of a program. Here's the role of each block:\n",
    "\n",
    "1. try Block:\n",
    " \n",
    "* The try block encloses a set of statements that might raise an exception.\n",
    "* It allows you to specify a block of code where you anticipate potential errors.\n",
    "* If an exception occurs within the try block, the normal flow of execution is interrupted, and the control is transferred to the corresponding except block.\n",
    "\n",
    "2. except Block:\n",
    "\n",
    "* The except block contains the code that is executed when a specific exception occurs in the associated try block.\n",
    "* It allows you to handle specific types of exceptions or provide a more user-friendly error message.\n",
    "* Multiple except blocks can be used to handle different types of exceptions.\n",
    "* If an exception occurs in the try block, the control moves to the first matching except block. If there is no matching except block, the program may terminate with an error message."
   ]
  },
  {
   "cell_type": "code",
   "execution_count": 1,
   "id": "95d9198e",
   "metadata": {},
   "outputs": [
    {
     "name": "stdout",
     "output_type": "stream",
     "text": [
      "Error: Division by zero is not allowed.\n"
     ]
    }
   ],
   "source": [
    "# Example\n",
    "\n",
    "try:\n",
    "    # Code that might raise an exception\n",
    "    result = 10 / 0\n",
    "except ZeroDivisionError:\n",
    "    # Handle the specific exception (division by zero)\n",
    "    print(\"Error: Division by zero is not allowed.\")\n",
    "except Exception as e:\n",
    "    # Handle other exceptions\n",
    "    print(f\"An error occurred: {e}\")\n",
    "\n",
    "# In this example, the try block contains code that attempts to perform a division by zero (10 / 0). Since this is not allowed, it raises a ZeroDivisionError. The corresponding except block catches this specific exception and prints a user-friendly error message.\n",
    "# If there were other types of exceptions, you could handle them in additional except blocks."
   ]
  },
  {
   "cell_type": "code",
   "execution_count": null,
   "id": "c7c98a2e",
   "metadata": {},
   "outputs": [],
   "source": [
    "2. What is the syntax for a basic try-except block?"
   ]
  },
  {
   "cell_type": "markdown",
   "id": "0641bfe0",
   "metadata": {},
   "source": [
    "The basic syntax for a try-except block in Python is as follows:\n",
    "\n",
    "try:\n",
    "    # Code that might raise an exception\n",
    "    # ...\n",
    "\n",
    "\n",
    "except ExceptionType:\n",
    "    # Code to handle the specific exception (ExceptionType)\n",
    "    # ...\n",
    "\n",
    "\n",
    "except AnotherExceptionType:\n",
    "    # Code to handle another specific exception (AnotherExceptionType)\n",
    "    # ...\n",
    "\n",
    "Optional: else block\n",
    "\n",
    "\n",
    "else:\n",
    "    # Code to be executed if no exception occurred in the try block\n",
    "    # ...\n",
    "\n",
    "\n",
    "Optional: finally block\n",
    "\n",
    "\n",
    "finally:\n",
    "    # Code to be executed regardless of whether an exception occurred or not\n",
    "    # ...\n",
    "\n",
    "Explanation:\n",
    "\n",
    "* The try block contains the code that might raise an exception.\n",
    "* The except block follows the try block and specifies the type of exception it can handle. You can have multiple except blocks to handle different types of exceptions.\n",
    "* Optionally, an else block can be included to specify code that should be executed if no exception occurred in the try block.\n",
    "* Optionally, a finally block can be included to specify code that should be executed regardless of whether an exception occurred or not. This block is useful for cleanup operations."
   ]
  },
  {
   "cell_type": "code",
   "execution_count": 2,
   "id": "ddb75bdc",
   "metadata": {},
   "outputs": [
    {
     "name": "stdout",
     "output_type": "stream",
     "text": [
      "Error: Division by zero is not allowed.\n",
      "This block will be executed regardless of exceptions.\n"
     ]
    }
   ],
   "source": [
    "# Example\n",
    "\n",
    "try:\n",
    "    result = 10 / 0\n",
    "except ZeroDivisionError:\n",
    "    print(\"Error: Division by zero is not allowed.\")\n",
    "except Exception as e:\n",
    "    print(f\"An error occurred: {e}\")\n",
    "else:\n",
    "    print(\"No exception occurred.\")\n",
    "finally:\n",
    "    print(\"This block will be executed regardless of exceptions.\")\n",
    "\n",
    "# In this example, if a ZeroDivisionError occurs, the first except block will handle it and print an error message. The else block will be executed if no exception occurs, and the finally block will be executed regardless of whether an exception occurred or not."
   ]
  },
  {
   "cell_type": "code",
   "execution_count": null,
   "id": "b7b6f7d8",
   "metadata": {},
   "outputs": [],
   "source": [
    "3. What happens if an exception occurs inside a try block and there is no matching\n",
    "except block?"
   ]
  },
  {
   "cell_type": "markdown",
   "id": "05eaf9b0",
   "metadata": {},
   "source": [
    "If an exception occurs inside a try block, and there is no matching except block to handle that specific type of exception, the program will terminate, and a traceback will be printed to the console. This traceback provides information about the type of exception, the line number where the exception occurred, and the sequence of calls leading to the exception.\n",
    "\n",
    "Consider the following example:"
   ]
  },
  {
   "cell_type": "code",
   "execution_count": 1,
   "id": "9f522ba5",
   "metadata": {},
   "outputs": [
    {
     "ename": "ZeroDivisionError",
     "evalue": "division by zero",
     "output_type": "error",
     "traceback": [
      "\u001b[1;31m---------------------------------------------------------------------------\u001b[0m",
      "\u001b[1;31mZeroDivisionError\u001b[0m                         Traceback (most recent call last)",
      "Cell \u001b[1;32mIn[1], line 2\u001b[0m\n\u001b[0;32m      1\u001b[0m \u001b[38;5;28;01mtry\u001b[39;00m:\n\u001b[1;32m----> 2\u001b[0m     result \u001b[38;5;241m=\u001b[39m \u001b[38;5;241;43m10\u001b[39;49m\u001b[43m \u001b[49m\u001b[38;5;241;43m/\u001b[39;49m\u001b[43m \u001b[49m\u001b[38;5;241;43m0\u001b[39;49m  \u001b[38;5;66;03m# This will raise a ZeroDivisionError\u001b[39;00m\n\u001b[0;32m      3\u001b[0m \u001b[38;5;28;01mexcept\u001b[39;00m \u001b[38;5;167;01mValueError\u001b[39;00m:\n\u001b[0;32m      4\u001b[0m     \u001b[38;5;66;03m# There is no matching except block for ZeroDivisionError\u001b[39;00m\n\u001b[0;32m      5\u001b[0m     \u001b[38;5;28mprint\u001b[39m(\u001b[38;5;124m\"\u001b[39m\u001b[38;5;124mThis will not be executed.\u001b[39m\u001b[38;5;124m\"\u001b[39m)\n",
      "\u001b[1;31mZeroDivisionError\u001b[0m: division by zero"
     ]
    }
   ],
   "source": [
    "try:\n",
    "    result = 10 / 0  # This will raise a ZeroDivisionError\n",
    "except ValueError:\n",
    "    # There is no matching except block for ZeroDivisionError\n",
    "    print(\"This will not be executed.\")\n"
   ]
  },
  {
   "cell_type": "markdown",
   "id": "26b064aa",
   "metadata": {},
   "source": [
    "In this example, the try block attempts to perform a division by zero (10 / 0), which raises a ZeroDivisionError. However, there is no except block that explicitly handles ZeroDivisionError. As a result, the program will terminate with an error message and a traceback.\n",
    "\n",
    "It's essential to provide specific except blocks or a generic except Exception as e block to handle exceptions appropriately and prevent the program from terminating unexpectedly. Handling exceptions allows you to gracefully respond to errors and continue the program's execution."
   ]
  },
  {
   "cell_type": "code",
   "execution_count": null,
   "id": "fe554349",
   "metadata": {},
   "outputs": [],
   "source": [
    "4. What is the difference between using a bare except block and specifying a specific\n",
    "exception type?"
   ]
  },
  {
   "cell_type": "markdown",
   "id": "3355357f",
   "metadata": {},
   "source": [
    "In Python's try-except blocks, there is a significant difference between using a bare except block and specifying a specific exception type.\n",
    "\n",
    "1. Bare except Block:\n",
    "\n",
    "* A bare except block catches any exception, regardless of its type.\n",
    "* It is often considered less desirable because it can catch unexpected exceptions, including those that might be indicative of bugs or other issues in the code.\n",
    "* Using a bare except block can make it challenging to diagnose and troubleshoot problems because it hides the specific type of exception that occurred."
   ]
  },
  {
   "cell_type": "code",
   "execution_count": 2,
   "id": "a9569f9e",
   "metadata": {},
   "outputs": [
    {
     "name": "stdout",
     "output_type": "stream",
     "text": [
      "An unspecified error occurred.\n"
     ]
    }
   ],
   "source": [
    "# Example\n",
    "try:\n",
    "    result = 10 / 0\n",
    "except:\n",
    "    print(\"An unspecified error occurred.\")\n"
   ]
  },
  {
   "cell_type": "markdown",
   "id": "08291e5f",
   "metadata": {},
   "source": [
    "2.Specifying a Specific Exception Type:\n",
    "\n",
    "* By specifying a specific exception type in the except block, you can target the handling of a particular type of exception.\n",
    "* This approach is generally more robust and recommended because it allows you to handle exceptions more selectively and provides clearer information about the type of error that occurred.\n",
    "* It also avoids catching unexpected exceptions that might indicate issues that need attention."
   ]
  },
  {
   "cell_type": "code",
   "execution_count": 3,
   "id": "fb3e8bcb",
   "metadata": {},
   "outputs": [
    {
     "name": "stdout",
     "output_type": "stream",
     "text": [
      "Error: Division by zero is not allowed.\n"
     ]
    }
   ],
   "source": [
    "# Example\n",
    "try:\n",
    "    result = 10 / 0\n",
    "except ZeroDivisionError:\n",
    "    print(\"Error: Division by zero is not allowed.\")"
   ]
  },
  {
   "cell_type": "markdown",
   "id": "c35dd84e",
   "metadata": {},
   "source": [
    "In summary, it's usually better to specify the exact exception types you expect and handle them explicitly. This practice enhances the clarity of your code, aids in debugging, and prevents unintended consequences that may arise from catching and handling exceptions indiscriminately with a bare except block."
   ]
  },
  {
   "cell_type": "code",
   "execution_count": null,
   "id": "6051321f",
   "metadata": {},
   "outputs": [],
   "source": [
    "5. Can you have nested try-except blocks in Python? If yes, then give an example."
   ]
  },
  {
   "cell_type": "markdown",
   "id": "b5976474",
   "metadata": {},
   "source": [
    "Yes, it's possible to have nested try-except blocks in Python. This means that you can place a try-except block inside another try or except block. This allows for more granular exception handling, where you can handle specific exceptions at different levels of nesting.\n",
    "\n",
    "Here's an example of nested try-except blocks:"
   ]
  },
  {
   "cell_type": "code",
   "execution_count": 4,
   "id": "08dd5a42",
   "metadata": {},
   "outputs": [
    {
     "name": "stdout",
     "output_type": "stream",
     "text": [
      "Enter the numerator: 12\n",
      "Enter the denominator: 2\n",
      "The result of division: 6.0\n"
     ]
    }
   ],
   "source": [
    "try:\n",
    "    # Outer try block\n",
    "    numerator = int(input(\"Enter the numerator: \"))\n",
    "    denominator = int(input(\"Enter the denominator: \"))\n",
    "\n",
    "    try:\n",
    "        # Inner try block\n",
    "        result = numerator / denominator\n",
    "        print(f\"The result of division: {result}\")\n",
    "\n",
    "    except ZeroDivisionError:\n",
    "        # Handle division by zero exception inside the inner try-except block\n",
    "        print(\"Error: Division by zero is not allowed in the inner block.\")\n",
    "\n",
    "except ValueError:\n",
    "    # Handle ValueError (e.g., if the user enters a non-integer) in the outer try-except block\n",
    "    print(\"Error: Please enter valid integer values.\")\n",
    "\n",
    "except Exception as e:\n",
    "    # Handle other exceptions in the outer try-except block\n",
    "    print(f\"An error occurred: {e}\")\n"
   ]
  },
  {
   "cell_type": "markdown",
   "id": "fe320349",
   "metadata": {},
   "source": [
    "In this example:\n",
    "\n",
    "* The outer try-except block handles a ValueError that might occur if the user enters a non-integer value for the numerator or denominator.\n",
    "\n",
    "* Inside the outer try block, there is an inner try-except block that handles a ZeroDivisionError if the user enters a denominator of zero.\n",
    "\n",
    "* The use of nested try-except blocks allows for more specific and localized handling of different types of exceptions at different levels in the code.\n",
    "\n",
    "Remember to use nested try-except blocks judiciously to maintain code readability and to handle exceptions at the appropriate level of granularity."
   ]
  },
  {
   "cell_type": "code",
   "execution_count": null,
   "id": "234cb17b",
   "metadata": {},
   "outputs": [],
   "source": [
    "6. Can we use multiple exception blocks, if yes then give an example."
   ]
  },
  {
   "cell_type": "code",
   "execution_count": 5,
   "id": "47a4ca39",
   "metadata": {},
   "outputs": [
    {
     "name": "stdout",
     "output_type": "stream",
     "text": [
      "Enter the numerator: 120\n",
      "Enter the denominator: 6\n",
      "The result of division: 20.0\n"
     ]
    }
   ],
   "source": [
    "# You can use multiple except blocks to handle different types of exceptions in a try-except structure. Here's an example:\n",
    "\n",
    "try:\n",
    "    numerator = int(input(\"Enter the numerator: \"))\n",
    "    denominator = int(input(\"Enter the denominator: \"))\n",
    "    \n",
    "    result = numerator / denominator\n",
    "    print(f\"The result of division: {result}\")\n",
    "\n",
    "except ZeroDivisionError:\n",
    "    # Handle division by zero exception\n",
    "    print(\"Error: Division by zero is not allowed.\")\n",
    "\n",
    "except ValueError:\n",
    "    # Handle ValueError (e.g., if the user enters a non-integer)\n",
    "    print(\"Error: Please enter valid integer values.\")\n",
    "\n",
    "except Exception as e:\n",
    "    # Handle other exceptions\n",
    "    print(f\"An error occurred: {e}\")\n"
   ]
  },
  {
   "cell_type": "markdown",
   "id": "a0ee9e0e",
   "metadata": {},
   "source": [
    "In this example:\n",
    "\n",
    "* The first except block handles a ZeroDivisionError, which occurs when the user enters a denominator of zero.\n",
    "\n",
    "* The second except block handles a ValueError, which might occur if the user enters a non-integer value for the numerator or denominator.\n",
    "\n",
    "* The third except block (with the generic Exception type) serves as a catch-all for any other exceptions that may occur. It prints a generic error message along with the details of the exception.\n",
    "\n",
    "Using multiple except blocks allows you to provide specific handling for different types of exceptions, improving the robustness of your code and making it easier to diagnose and address specific issues."
   ]
  },
  {
   "cell_type": "code",
   "execution_count": null,
   "id": "8ff8c014",
   "metadata": {},
   "outputs": [],
   "source": [
    "7. Write the reason due to which following errors are raised:\n",
    "a. EOFError\n",
    "b. FloatingPointError\n",
    "c. IndexError\n",
    "d. MemoryError\n",
    "e. OverflowError\n",
    "f. TabError\n",
    "g. ValueError"
   ]
  },
  {
   "cell_type": "markdown",
   "id": "bfab1c4b",
   "metadata": {},
   "source": [
    "Ans.\n",
    "\n",
    "1. EOFError:\n",
    "\n",
    " Reason: This error is raised when the input() function hits an end-of-file condition without reading any data.\n",
    "\n",
    "2. FloatingPointError:\n",
    "\n",
    " Reason: This error occurs when a floating-point operation results in an undefined or infinite value, such as dividing a     number by zero.\n",
    "3. c. IndexError:\n",
    "\n",
    " Reason: This error is raised when trying to access an index in a sequence (like a list or tuple) that is outside the valid range.\n",
    "\n",
    "4. MemoryError:\n",
    "\n",
    " Reason: This error occurs when an operation runs out of memory, indicating that the system has insufficient memory to  execute the operation.\n",
    "\n",
    "5. OverflowError:\n",
    "\n",
    " Reason: This error occurs when the result of an arithmetic operation exceeds the representational limits of the data type, typically seen with integers.\n",
    "\n",
    "6. TabError:\n",
    "\n",
    "Reason: This error is raised when indentation using tabs and spaces is inconsistent in a Python script, especially within the same block.\n",
    "\n",
    "7. ValueError:\n",
    "\n",
    " Reason: This error is raised when a built-in operation or function receives an argument of the correct type but an inappropriate value.\n",
    "\n",
    "Understanding these error types helps in identifying and handling specific issues that may arise during the execution of a Python program."
   ]
  },
  {
   "cell_type": "code",
   "execution_count": null,
   "id": "3f7a9dd3",
   "metadata": {},
   "outputs": [],
   "source": [
    "8. Write code for the following given scenario and add try-exception block to it.\n",
    "a. Program to divide two numbers\n",
    "b. Program to convert a string to an integer\n",
    "c. Program to access an element in a list\n",
    "d. Program to handle a specific exception\n",
    "e. Program to handle any exception"
   ]
  },
  {
   "cell_type": "code",
   "execution_count": 6,
   "id": "63304267",
   "metadata": {},
   "outputs": [
    {
     "name": "stdout",
     "output_type": "stream",
     "text": [
      "Enter the numerator: 12\n",
      "Enter the denominator: 2\n",
      "The result of division: 6.0\n"
     ]
    }
   ],
   "source": [
    "# Program to divide two numbers:\n",
    "\n",
    "try:\n",
    "    numerator = int(input(\"Enter the numerator: \"))\n",
    "    denominator = int(input(\"Enter the denominator: \"))\n",
    "    \n",
    "    result = numerator / denominator\n",
    "    print(f\"The result of division: {result}\")\n",
    "\n",
    "except ZeroDivisionError:\n",
    "    print(\"Error: Division by zero is not allowed.\")\n",
    "\n",
    "except ValueError as ve:\n",
    "    print(f\"Error: {ve}\")\n"
   ]
  },
  {
   "cell_type": "code",
   "execution_count": 7,
   "id": "84714c0a",
   "metadata": {},
   "outputs": [
    {
     "name": "stdout",
     "output_type": "stream",
     "text": [
      "Enter an integer: 75\n",
      "The converted integer: 75\n"
     ]
    }
   ],
   "source": [
    "# Program to convert a string to an integer: \n",
    "\n",
    "try:\n",
    "    user_input = input(\"Enter an integer: \")\n",
    "    converted_value = int(user_input)\n",
    "    print(f\"The converted integer: {converted_value}\")\n",
    "\n",
    "except ValueError as ve:\n",
    "    print(f\"Error: {ve}\")\n"
   ]
  },
  {
   "cell_type": "code",
   "execution_count": 8,
   "id": "ec7eb0f7",
   "metadata": {},
   "outputs": [
    {
     "name": "stdout",
     "output_type": "stream",
     "text": [
      "Enter an index to access: 2\n",
      "The value at index 2: 3\n"
     ]
    }
   ],
   "source": [
    "# Program to access an element in a list:\n",
    "\n",
    "try:\n",
    "    my_list = [1, 2, 3, 4, 5]\n",
    "    index = int(input(\"Enter an index to access: \"))\n",
    "    \n",
    "    value = my_list[index]\n",
    "    print(f\"The value at index {index}: {value}\")\n",
    "\n",
    "except IndexError:\n",
    "    print(\"Error: Index out of range.\")\n",
    "\n",
    "except ValueError as ve:\n",
    "    print(f\"Error: {ve}\")\n"
   ]
  },
  {
   "cell_type": "code",
   "execution_count": 10,
   "id": "b4671519",
   "metadata": {},
   "outputs": [
    {
     "name": "stdout",
     "output_type": "stream",
     "text": [
      "Enter the first number: 20\n",
      "Enter the second number: 2\n",
      "The result of division: 10.0\n"
     ]
    }
   ],
   "source": [
    "# Program to handle a specific exception:\n",
    "\n",
    "try:\n",
    "    num1 = int(input(\"Enter the first number: \"))\n",
    "    num2 = int(input(\"Enter the second number: \"))\n",
    "    \n",
    "    result = num1 / num2\n",
    "    print(f\"The result of division: {result}\")\n",
    "\n",
    "except ZeroDivisionError:\n",
    "    print(\"Error: Division by zero is not allowed.\")\n",
    "\n",
    "except ValueError as ve:\n",
    "    print(f\"Error: {ve}\")\n"
   ]
  },
  {
   "cell_type": "code",
   "execution_count": 11,
   "id": "a2a913ae",
   "metadata": {},
   "outputs": [
    {
     "name": "stdout",
     "output_type": "stream",
     "text": [
      "Enter an integer: 20\n",
      "The result of division: 0.5\n"
     ]
    }
   ],
   "source": [
    "# Program to handle any exception:\n",
    "\n",
    "try:\n",
    "    user_input = input(\"Enter an integer: \")\n",
    "    converted_value = int(user_input)\n",
    "    result = 10 / converted_value\n",
    "    print(f\"The result of division: {result}\")\n",
    "\n",
    "except Exception as e:\n",
    "    print(f\"An error occurred: {e}\")"
   ]
  },
  {
   "cell_type": "markdown",
   "id": "b75b3269",
   "metadata": {},
   "source": [
    "These examples use specific except blocks to handle different types of exceptions. It's good practice to handle exceptions selectively based on the type of error to provide more meaningful error messages and improve code robustness."
   ]
  },
  {
   "cell_type": "code",
   "execution_count": null,
   "id": "a03218ee",
   "metadata": {},
   "outputs": [],
   "source": []
  }
 ],
 "metadata": {
  "kernelspec": {
   "display_name": "Python 3 (ipykernel)",
   "language": "python",
   "name": "python3"
  },
  "language_info": {
   "codemirror_mode": {
    "name": "ipython",
    "version": 3
   },
   "file_extension": ".py",
   "mimetype": "text/x-python",
   "name": "python",
   "nbconvert_exporter": "python",
   "pygments_lexer": "ipython3",
   "version": "3.10.9"
  }
 },
 "nbformat": 4,
 "nbformat_minor": 5
}
