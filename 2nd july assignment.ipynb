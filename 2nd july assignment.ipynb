{
 "cells": [
  {
   "cell_type": "code",
   "execution_count": null,
   "id": "1ef4d2f7",
   "metadata": {},
   "outputs": [],
   "source": [
    "1. Explain what inheritance is in object-oriented programming and why it is used."
   ]
  },
  {
   "cell_type": "markdown",
   "id": "878c377d",
   "metadata": {},
   "source": [
    "Inheritance is a fundamental concept in object-oriented programming (OOP) that allows a new class (called the derived or child class) to inherit attributes and methods from an existing class (called the base or parent class). The child class can then extend or override the inherited characteristics, enabling code reuse and promoting a hierarchical organization of code."
   ]
  },
  {
   "cell_type": "code",
   "execution_count": null,
   "id": "e9c2c1b6",
   "metadata": {},
   "outputs": [],
   "source": [
    "2. Discuss the concept of single inheritance and multiple inheritance, highlighting their\n",
    "differences and advantages."
   ]
  },
  {
   "cell_type": "markdown",
   "id": "8cbf8080",
   "metadata": {},
   "source": [
    "Single Inheritance:\n",
    "\n",
    "In single inheritance, a class can inherit from only one base class. It's like having one parent. This simplicity can make the code more straightforward and easier to understand. Imagine a family tree where each person has only one parent—it's a linear hierarchy.\n",
    "\n",
    "Advantages of Single Inheritance:\n",
    "\n",
    "Simplicity: It keeps things neat and tidy, making the code less complex.\n",
    "\n",
    "Ease of Maintenance: With only one parent, changes are less likely to have a domino effect on the rest of the code.\n",
    "\n",
    "\n",
    "Multiple Inheritance:\n",
    "\n",
    "Now, multiple inheritance allows a class to inherit from more than one base class. It's like a family tree with multiple branches converging onto one person. This can be powerful but needs careful handling to avoid confusion and ambiguity.\n",
    "\n",
    "Advantages of Multiple Inheritance:\n",
    "\n",
    "Code Reusability: You can inherit attributes and methods from different sources, promoting code reuse.\n",
    "Versatility: It allows for more complex class relationships, creating a richer class hierarchy.\n",
    "\n",
    "Differences:\n",
    "\n",
    "Number of Parents: The obvious one—single has one, multiple has more.\n",
    "\n",
    "Complexity: Single is simpler and more straightforward, while multiple can introduce complexity and challenges in understanding."
   ]
  },
  {
   "cell_type": "code",
   "execution_count": null,
   "id": "e25134e6",
   "metadata": {},
   "outputs": [],
   "source": [
    "3. Explain the terms \"base class\" and \"derived class\" in the context of inheritance."
   ]
  },
  {
   "cell_type": "markdown",
   "id": "4f6896f7",
   "metadata": {},
   "source": [
    "Absolutely, let's break down these terms in the context of inheritance:\n",
    "\n",
    "1. Base Class:\n",
    "\n",
    "* Also known as a parent class or superclass.\n",
    "* This is the class that is being inherited from.\n",
    "* It provides the basic structure and functionality to be shared by the derived classes.\n",
    "* Think of it as the higher-level, more generalized class.\n",
    "\n",
    "2. Derived Class:\n",
    "\n",
    "* Also known as a child class or subclass.\n",
    "* This is the class that inherits from another class (the base class).\n",
    "* It inherits attributes and behaviors from the base class and can also have additional features or modifications.\n",
    "* Think of it as a specialized version, building upon the foundation of the base class.\n",
    "\n",
    "In a nutshell, the base class is like a blueprint or template, and the derived class is a specific implementation that inherits and extends the features of the base class. The relationship between them is a key aspect of inheritance in object-oriented programming. It allows for code reuse, as the derived class can leverage the existing functionality of the base class while adding or modifying as needed."
   ]
  },
  {
   "cell_type": "code",
   "execution_count": null,
   "id": "fd8df03b",
   "metadata": {},
   "outputs": [],
   "source": [
    "4. What is the significance of the \"protected\" access modifier in inheritance? How does\n",
    "   it differ from \"private\" and \"public\" modifiers?"
   ]
  },
  {
   "cell_type": "markdown",
   "id": "48667b6b",
   "metadata": {},
   "source": [
    "Protected access modifier plays a significant role in balancing encapsulation and inheritance. Let's delve into its significance and how it differs from public and private modifiers:\n",
    "\n",
    "Public Access Modifier:\n",
    "\n",
    "Attributes and methods are accessible from anywhere, both within and outside the class.\n",
    "It provides the least restriction on access.\n",
    "\n",
    "Private Access Modifier:\n",
    "\n",
    "Attributes and methods are not directly accessible from outside the class.\n",
    "Indicated by using a specific syntax (e.g., a double underscore before the attribute or method name).\n",
    "Encourages encapsulation by hiding the implementation details.\n",
    "\n",
    "Protected Access Modifier:\n",
    "\n",
    "Attributes and methods are accessible within the class and its subclasses (inheritance).\n",
    "Typically indicated by a single underscore before the attribute or method name.\n",
    "It provides a middle ground between public and private, allowing for selective access.\n",
    "\n",
    "Significance in Inheritance:\n",
    "\n",
    "Public: Inherited by subclasses. The subclass can freely access and modify public members of the base class.\n",
    "\n",
    "Private: Private members are not inherited. They are encapsulated within the class, not exposed to the subclasses.\n",
    "\n",
    "Protected: Shared with subclasses, allowing them to access and potentially modify these members. It facilitates the reuse of code and promotes a certain level of visibility within the inheritance hierarchy.\n",
    "\n",
    "In summary, the protected access modifier serves as a bridge between public and private, enabling a controlled level of access within the class hierarchy. It allows for the benefits of inheritance while maintaining some encapsulation of implementation details."
   ]
  },
  {
   "cell_type": "code",
   "execution_count": null,
   "id": "a5bb3216",
   "metadata": {},
   "outputs": [],
   "source": [
    "5. What is the purpose of the \"super\" keyword in inheritance? Provide an example."
   ]
  },
  {
   "cell_type": "markdown",
   "id": "acff79ca",
   "metadata": {},
   "source": [
    "Ans. The super keyword—a superhero in the world of inheritance! Its purpose is to call a method or access a property from the parent class (or a superclass). Let's illustrate with an example:"
   ]
  },
  {
   "cell_type": "code",
   "execution_count": 1,
   "id": "2eb61dac",
   "metadata": {},
   "outputs": [
    {
     "name": "stdout",
     "output_type": "stream",
     "text": [
      "Simba makes a sound\n",
      "Simba barks\n"
     ]
    }
   ],
   "source": [
    "# example\n",
    "class Animal:\n",
    "    def __init__(self, name):\n",
    "        self.name = name\n",
    "\n",
    "    def speak(self):\n",
    "        print(f\"{self.name} makes a sound\")\n",
    "\n",
    "class Dog(Animal):\n",
    "    def __init__(self, name, breed):\n",
    "        super().__init__(name)\n",
    "        self.breed = breed\n",
    "\n",
    "    def speak(self):\n",
    "        super().speak()  # Calling the speak method from the parent class\n",
    "        print(f\"{self.name} barks\")\n",
    "\n",
    "# Creating an instance of Dog\n",
    "my_dog = Dog(\"Simba\", \"pitbull\")\n",
    "\n",
    "# Calling the speak method of Dog\n",
    "my_dog.speak()"
   ]
  },
  {
   "cell_type": "markdown",
   "id": "50cf8a84",
   "metadata": {},
   "source": [
    "In this example:\n",
    "\n",
    "The Animal class has a speak method that prints a generic sound.\n",
    "The Dog class inherits from Animal and adds its own twist to the speak method by barking after the generic sound.\n",
    "In the __init__ method of the Dog class, super().__init__(name) is used to call the __init__ method of the parent class (Animal). This ensures that the name attribute is properly initialized in the Animal class.\n",
    "So, the super keyword allows a subclass to invoke methods or access attributes from its superclass, providing a way to extend or override functionality while still utilizing the existing behavior of the parent class. It maintains the integrity of the inheritance hierarchy."
   ]
  },
  {
   "cell_type": "code",
   "execution_count": null,
   "id": "b26aec1a",
   "metadata": {},
   "outputs": [],
   "source": [
    "6. Create a base class called \"Vehicle\" with attributes like \"make\", \"model\", and \"year\".\n",
    "Then, create a derived class called \"Car\" that inherits from \"Vehicle\" and adds an\n",
    "attribute called \"fuel_type\". Implement appropriate methods in both classes."
   ]
  },
  {
   "cell_type": "code",
   "execution_count": 2,
   "id": "14e5a873",
   "metadata": {},
   "outputs": [
    {
     "name": "stdout",
     "output_type": "stream",
     "text": [
      "The vehicle is Lamborgini Aventador 2011\n",
      "the Fuel type of this vehicle is Petrol\n"
     ]
    }
   ],
   "source": [
    "class Vehicle:\n",
    "    def __init__(self,make,model,year):\n",
    "        self.make=make\n",
    "        self.model=model\n",
    "        self.year=year\n",
    "        \n",
    "    def display(self):\n",
    "        print(f\"The vehicle is {self.model} {self.make} {self.year}\")\n",
    "        \n",
    "class Car(Vehicle):\n",
    "    def __init__(self,make,model,year,fuel_type):\n",
    "        super().__init__(make,model,year)\n",
    "        self.fuel_type=fuel_type\n",
    "        \n",
    "    def display(self):\n",
    "        super().display()      # Calling the display_info method from the parent class\n",
    "        print(f\"the Fuel type of this vehicle is {self.fuel_type}\")\n",
    "\n",
    "        \n",
    "# Creating an instance of Car        \n",
    "mycar=Car(\"Aventador\",\"Lamborgini\",\"2011\",\"Petrol\")\n",
    "\n",
    "# Calling the display_info method of Car\n",
    "mycar.display()"
   ]
  },
  {
   "cell_type": "code",
   "execution_count": null,
   "id": "b233c0e7",
   "metadata": {},
   "outputs": [],
   "source": [
    "7. Create a base class called \"Employee\" with attributes like \"name\" and \"salary.\"\n",
    "Derive two classes, \"Manager\" and \"Developer,\" from \"Employee.\" Add an additional\n",
    "attribute called \"department\" for the \"Manager\" class and \"programming_language\"\n",
    "for the \"Developer\" class."
   ]
  },
  {
   "cell_type": "code",
   "execution_count": 3,
   "id": "b97f6a03",
   "metadata": {},
   "outputs": [
    {
     "name": "stdout",
     "output_type": "stream",
     "text": [
      "Manager:\n",
      "Name: Yash\n",
      "Salary: 80000\n",
      "Department: IT\n",
      "\n",
      "Developer:\n",
      "Name: Raj\n",
      "Salary: 70000\n",
      "Programming Language: Python\n"
     ]
    }
   ],
   "source": [
    "class Employee:\n",
    "    def __init__(self, name, salary):\n",
    "        self.name = name\n",
    "        self.salary = salary\n",
    "\n",
    "    def display_info(self):\n",
    "        print(f\"Name: {self.name}\\nSalary: {self.salary}\")\n",
    "\n",
    "class Manager(Employee):\n",
    "    def __init__(self, name, salary, department):\n",
    "        super().__init__(name, salary)\n",
    "        self.department = department\n",
    "\n",
    "    def display_info(self):\n",
    "        super().display_info()\n",
    "        print(f\"Department: {self.department}\")\n",
    "\n",
    "class Developer(Employee):\n",
    "    def __init__(self, name, salary, programming_language):\n",
    "        super().__init__(name, salary)\n",
    "        self.programming_language = programming_language\n",
    "\n",
    "    def display_info(self):\n",
    "        super().display_info()\n",
    "        print(f\"Programming Language: {self.programming_language}\")\n",
    "\n",
    "# Creating instances of Manager and Developer\n",
    "manager = Manager(\"Yash\", 80000, \"IT\")\n",
    "developer = Developer(\"Raj\", 70000, \"Python\")\n",
    "\n",
    "# Displaying information\n",
    "print(\"Manager:\")\n",
    "manager.display_info()\n",
    "\n",
    "print(\"\\nDeveloper:\")\n",
    "developer.display_info()"
   ]
  },
  {
   "cell_type": "code",
   "execution_count": null,
   "id": "82dae365",
   "metadata": {},
   "outputs": [],
   "source": [
    "8. Design a base class called \"Shape\" with attributes like \"colour\" and \"border_width.\"\n",
    "Create derived classes, \"Rectangle\" and \"Circle,\" that inherit from \"Shape\" and add\n",
    "specific attributes like \"length\" and \"width\" for the \"Rectangle\" class and \"radius\" for\n",
    "the \"Circle\" class."
   ]
  },
  {
   "cell_type": "code",
   "execution_count": 4,
   "id": "68f4b849",
   "metadata": {},
   "outputs": [
    {
     "name": "stdout",
     "output_type": "stream",
     "text": [
      "Rectangle:\n",
      "Colour: Blue\n",
      "Border Width: 2 units\n",
      "Length: 5 units\n",
      "Width: 8 units\n",
      "\n",
      "Circle:\n",
      "Colour: Red\n",
      "Border Width: 1 units\n",
      "Radius: 6 units\n"
     ]
    }
   ],
   "source": [
    "class Shape:\n",
    "    def __init__(self, colour, border_width):\n",
    "        self.colour = colour\n",
    "        self.border_width = border_width\n",
    "\n",
    "    def display_info(self):\n",
    "        print(f\"Colour: {self.colour}\\nBorder Width: {self.border_width} units\")\n",
    "\n",
    "class Rectangle(Shape):\n",
    "    def __init__(self, colour, border_width, length, width):\n",
    "        super().__init__(colour, border_width)\n",
    "        self.length = length\n",
    "        self.width = width\n",
    "\n",
    "    def display_info(self):\n",
    "        super().display_info()\n",
    "        print(f\"Length: {self.length} units\\nWidth: {self.width} units\")\n",
    "\n",
    "class Circle(Shape):\n",
    "    def __init__(self, colour, border_width, radius):\n",
    "        super().__init__(colour, border_width)\n",
    "        self.radius = radius\n",
    "\n",
    "    def display_info(self):\n",
    "        super().display_info()\n",
    "        print(f\"Radius: {self.radius} units\")\n",
    "\n",
    "# Creating instances of Rectangle and Circle\n",
    "rectangle = Rectangle(\"Blue\", 2, 5, 8)\n",
    "circle = Circle(\"Red\", 1, 6)\n",
    "\n",
    "# Displaying information\n",
    "print(\"Rectangle:\")\n",
    "rectangle.display_info()\n",
    "\n",
    "print(\"\\nCircle:\")\n",
    "circle.display_info()"
   ]
  },
  {
   "cell_type": "code",
   "execution_count": null,
   "id": "f4b6a3ec",
   "metadata": {},
   "outputs": [],
   "source": [
    "9. Create a base class called \"Device\" with attributes like \"brand\" and \"model.\" Derive\n",
    "two classes, \"Phone\" and \"Tablet,\" from \"Device.\" Add specific attributes like\n",
    "\"screen_size\" for the \"Phone\" class and \"battery_capacity\" for the \"Tablet\" class."
   ]
  },
  {
   "cell_type": "code",
   "execution_count": 5,
   "id": "65f5c9dd",
   "metadata": {},
   "outputs": [
    {
     "name": "stdout",
     "output_type": "stream",
     "text": [
      "Phone:\n",
      "Brand: Apple\n",
      "Model: iPhone 15\n",
      "Screen Size: 6.1 inches\n",
      "\n",
      "Tablet:\n",
      "Brand: Samsung\n",
      "Model: Galaxy Tab S9\n",
      "Battery Capacity: 8000 mAh\n"
     ]
    }
   ],
   "source": [
    "class Device:\n",
    "    def __init__(self, brand, model):\n",
    "        self.brand = brand\n",
    "        self.model = model\n",
    "\n",
    "    def display_info(self):\n",
    "        print(f\"Brand: {self.brand}\\nModel: {self.model}\")\n",
    "\n",
    "class Phone(Device):\n",
    "    def __init__(self, brand, model, screen_size):\n",
    "        super().__init__(brand, model)\n",
    "        self.screen_size = screen_size\n",
    "\n",
    "    def display_info(self):\n",
    "        super().display_info()\n",
    "        print(f\"Screen Size: {self.screen_size} inches\")\n",
    "\n",
    "class Tablet(Device):\n",
    "    def __init__(self, brand, model, battery_capacity):\n",
    "        super().__init__(brand, model)\n",
    "        self.battery_capacity = battery_capacity\n",
    "\n",
    "    def display_info(self):\n",
    "        super().display_info()\n",
    "        print(f\"Battery Capacity: {self.battery_capacity} mAh\")\n",
    "\n",
    "# Creating instances of Phone and Tablet\n",
    "phone = Phone(\"Apple\", \"iPhone 15\", 6.1)\n",
    "tablet = Tablet(\"Samsung\", \"Galaxy Tab S9\", 8000)\n",
    "\n",
    "# Displaying information\n",
    "print(\"Phone:\")\n",
    "phone.display_info()\n",
    "\n",
    "print(\"\\nTablet:\")\n",
    "tablet.display_info()"
   ]
  },
  {
   "cell_type": "code",
   "execution_count": null,
   "id": "9db6c556",
   "metadata": {},
   "outputs": [],
   "source": [
    "10. Create a base class called \"BankAccount\" with attributes like \"account_number\" and\n",
    "\"balance.\" Derive two classes, \"SavingsAccount\" and \"CheckingAccount,\" from\n",
    "\"BankAccount.\" Add specific methods like \"calculate_interest\" for the\n",
    "\"SavingsAccount\" class and \"deduct_fees\" for the \"CheckingAccount\" class."
   ]
  },
  {
   "cell_type": "code",
   "execution_count": 6,
   "id": "c4d4dda5",
   "metadata": {},
   "outputs": [
    {
     "name": "stdout",
     "output_type": "stream",
     "text": [
      "Savings Account:\n",
      "Account Number: 123456789\n",
      "Balance: 1000\n",
      "Interest Calculated: 20.0\n",
      "\n",
      "Checking Account:\n",
      "Account Number: 987654321\n",
      "Balance: 1500\n",
      "Fees Deducted: 4.5\n"
     ]
    }
   ],
   "source": [
    "class BankAccount:\n",
    "    def __init__(self, account_number, balance):\n",
    "        self.account_number = account_number\n",
    "        self.balance = balance\n",
    "\n",
    "    def display_info(self):\n",
    "        print(f\"Account Number: {self.account_number}\\nBalance: {self.balance}\")\n",
    "\n",
    "class SavingsAccount(BankAccount):\n",
    "    def __init__(self, account_number, balance, interest_rate):\n",
    "        super().__init__(account_number, balance)\n",
    "        self.interest_rate = interest_rate\n",
    "\n",
    "    def calculate_interest(self):\n",
    "        interest = self.balance * self.interest_rate\n",
    "        self.balance += interest\n",
    "        print(f\"Interest Calculated: {interest}\")\n",
    "\n",
    "class CheckingAccount(BankAccount):\n",
    "    def __init__(self, account_number, balance, fee_per_transaction):\n",
    "        super().__init__(account_number, balance)\n",
    "        self.fee_per_transaction = fee_per_transaction\n",
    "\n",
    "    def deduct_fees(self, num_transactions):\n",
    "        fees = self.fee_per_transaction * num_transactions\n",
    "        self.balance -= fees\n",
    "        print(f\"Fees Deducted: {fees}\")\n",
    "\n",
    "# Creating instances of SavingsAccount and CheckingAccount\n",
    "savings_account = SavingsAccount(\"123456789\", 1000, 0.02)\n",
    "checking_account = CheckingAccount(\"987654321\", 1500, 1.5)\n",
    "\n",
    "# Displaying information\n",
    "print(\"Savings Account:\")\n",
    "savings_account.display_info()\n",
    "savings_account.calculate_interest()\n",
    "\n",
    "print(\"\\nChecking Account:\")\n",
    "checking_account.display_info()\n",
    "checking_account.deduct_fees(3)"
   ]
  },
  {
   "cell_type": "code",
   "execution_count": null,
   "id": "c9185d1f",
   "metadata": {},
   "outputs": [],
   "source": []
  }
 ],
 "metadata": {
  "kernelspec": {
   "display_name": "Python 3 (ipykernel)",
   "language": "python",
   "name": "python3"
  },
  "language_info": {
   "codemirror_mode": {
    "name": "ipython",
    "version": 3
   },
   "file_extension": ".py",
   "mimetype": "text/x-python",
   "name": "python",
   "nbconvert_exporter": "python",
   "pygments_lexer": "ipython3",
   "version": "3.10.9"
  }
 },
 "nbformat": 4,
 "nbformat_minor": 5
}
